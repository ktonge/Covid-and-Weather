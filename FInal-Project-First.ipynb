{
 "cells": [
  {
   "cell_type": "code",
   "execution_count": 9,
   "id": "77808a1b",
   "metadata": {},
   "outputs": [
    {
     "name": "stdout",
     "output_type": "stream",
     "text": [
      "                                     ID      Country CountryCode         Slug  \\\n",
      "0  2ce31b38-c119-4406-a11c-0642a6bdd914  Afghanistan          AF  afghanistan   \n",
      "1  de2f5bdb-ef40-4294-81d8-5a6504506ede      Albania          AL      albania   \n",
      "2  a93c2ea6-d2db-404f-93c1-4b0ddb9d14d3      Algeria          DZ      algeria   \n",
      "3  4ccb2c98-f19a-44a0-92c7-5932ca3eb9d1      Andorra          AD      andorra   \n",
      "4  b94c4464-b9f6-438c-9b1d-76532bbc963d       Angola          AO       angola   \n",
      "\n",
      "   NewConfirmed  TotalConfirmed  NewDeaths  TotalDeaths  NewRecovered  \\\n",
      "0             0          209451          0         7896             0   \n",
      "1            14          334457          0         3598             0   \n",
      "2             2          271496          0         6881             0   \n",
      "3             0           47890          0          165             0   \n",
      "4             0          105288          0         1933             0   \n",
      "\n",
      "   TotalRecovered                     Date  \n",
      "0               0  2023-03-18T00:03:36.38Z  \n",
      "1               0  2023-03-18T00:03:36.38Z  \n",
      "2               0  2023-03-18T00:03:36.38Z  \n",
      "3               0  2023-03-18T00:03:36.38Z  \n",
      "4               0  2023-03-18T00:03:36.38Z  \n"
     ]
    }
   ],
   "source": [
    "import requests\n",
    "import pandas as pd\n",
    "\n",
    "# Make a request to the API\n",
    "response = requests.get('https://api.covid19api.com/summary')\n",
    "\n",
    "# Parse the response into a pandas DataFrame\n",
    "data = response.json()\n",
    "df = pd.json_normalize(data['Countries'])\n",
    "\n",
    "# Display the DataFrame as a table\n",
    "print(df.head())"
   ]
  },
  {
   "cell_type": "code",
   "execution_count": 14,
   "id": "29564b8c",
   "metadata": {},
   "outputs": [
    {
     "name": "stdout",
     "output_type": "stream",
     "text": [
      "         Date       Cases    Deaths\n",
      "0    20210307  28756489.0  515151.0\n",
      "1    20210306  28714654.0  514309.0\n",
      "2    20210305  28654639.0  512629.0\n",
      "3    20210304  28585852.0  510408.0\n",
      "4    20210303  28520365.0  508665.0\n",
      "..        ...         ...       ...\n",
      "415  20200117         0.0       NaN\n",
      "416  20200116         0.0       NaN\n",
      "417  20200115         0.0       NaN\n",
      "418  20200114         0.0       NaN\n",
      "419  20200113         NaN       NaN\n",
      "\n",
      "[420 rows x 3 columns]\n"
     ]
    }
   ],
   "source": [
    "import requests\n",
    "import pandas as pd\n",
    "\n",
    "# Make a request to the API\n",
    "response = requests.get('https://api.covidtracking.com/v1/us/daily.json')\n",
    "\n",
    "# Parse the response into a pandas DataFrame\n",
    "data = response.json()\n",
    "df = pd.DataFrame(data)\n",
    "\n",
    "# Select only the columns you want in your table\n",
    "table_columns = ['date', 'positive', 'death']\n",
    "\n",
    "# Create the table\n",
    "table = df[table_columns]\n",
    "\n",
    "# Rename the columns for clarity\n",
    "table.columns = ['Date', 'Cases', 'Deaths']\n",
    "\n",
    "# Display the table\n",
    "print(table)\n",
    "\n"
   ]
  },
  {
   "cell_type": "code",
   "execution_count": 22,
   "id": "76b1da8a",
   "metadata": {},
   "outputs": [
    {
     "name": "stdout",
     "output_type": "stream",
     "text": [
      "         Date     Cases    Deaths  Total Tests  Currently Hospitalized\n",
      "0    20201206  14534035  273374.0    204063869                101487.0\n",
      "1    20201205  14357264  272236.0    202429337                101190.0\n",
      "2    20201204  14146191  269791.0    200259581                101276.0\n",
      "3    20201203  13921360  267228.0    198404712                100755.0\n",
      "4    20201202  13711156  264522.0    196576482                100322.0\n",
      "..        ...       ...       ...          ...                     ...\n",
      "315  20200126         0       NaN            2                     NaN\n",
      "316  20200125         0       NaN            2                     NaN\n",
      "317  20200124         0       NaN            2                     NaN\n",
      "318  20200123         0       NaN            2                     NaN\n",
      "319  20200122         0       NaN            1                     NaN\n",
      "\n",
      "[320 rows x 5 columns]\n"
     ]
    }
   ],
   "source": [
    "import pandas as pd\n",
    "\n",
    "# Load the data into a pandas DataFrame\n",
    "df = pd.read_csv('/Users/nozi/Desktop/final project/archive/us_covid19_daily.csv')\n",
    "\n",
    "# Select only the columns you want in your table\n",
    "table_columns = ['date', 'positive', 'death', 'totalTestResults', 'hospitalizedCurrently']\n",
    "\n",
    "# Create the table\n",
    "table = df[table_columns]\n",
    "\n",
    "# Rename the columns for clarity\n",
    "table.columns = ['Date', 'Cases', 'Deaths', 'Total Tests', 'Currently Hospitalized']\n",
    "\n",
    "# Display the table\n",
    "print(table)\n"
   ]
  },
  {
   "cell_type": "code",
   "execution_count": 23,
   "id": "43f2d924",
   "metadata": {},
   "outputs": [
    {
     "ename": "TypeError",
     "evalue": "Expected file path name or file-like object, got <class 'bytes'> type",
     "output_type": "error",
     "traceback": [
      "\u001b[0;31m---------------------------------------------------------------------------\u001b[0m",
      "\u001b[0;31mTypeError\u001b[0m                                 Traceback (most recent call last)",
      "\u001b[0;32m/var/folders/3f/298h63qx7ll8qqp4v8w4j7fc0000gn/T/ipykernel_72201/1220725896.py\u001b[0m in \u001b[0;36m<module>\u001b[0;34m\u001b[0m\n\u001b[1;32m      7\u001b[0m \u001b[0;34m\u001b[0m\u001b[0m\n\u001b[1;32m      8\u001b[0m \u001b[0;31m# Load the COVID-19 case data into a pandas DataFrame\u001b[0m\u001b[0;34m\u001b[0m\u001b[0;34m\u001b[0m\u001b[0m\n\u001b[0;32m----> 9\u001b[0;31m \u001b[0mdf_cases\u001b[0m \u001b[0;34m=\u001b[0m \u001b[0mpd\u001b[0m\u001b[0;34m.\u001b[0m\u001b[0mread_json\u001b[0m\u001b[0;34m(\u001b[0m\u001b[0mresponse_cases\u001b[0m\u001b[0;34m.\u001b[0m\u001b[0mcontent\u001b[0m\u001b[0;34m)\u001b[0m\u001b[0;34m\u001b[0m\u001b[0;34m\u001b[0m\u001b[0m\n\u001b[0m\u001b[1;32m     10\u001b[0m \u001b[0;34m\u001b[0m\u001b[0m\n\u001b[1;32m     11\u001b[0m \u001b[0;31m# Select only the columns you want in your table\u001b[0m\u001b[0;34m\u001b[0m\u001b[0;34m\u001b[0m\u001b[0m\n",
      "\u001b[0;32m~/opt/anaconda3/lib/python3.9/site-packages/pandas/util/_decorators.py\u001b[0m in \u001b[0;36mwrapper\u001b[0;34m(*args, **kwargs)\u001b[0m\n\u001b[1;32m    209\u001b[0m                 \u001b[0;32melse\u001b[0m\u001b[0;34m:\u001b[0m\u001b[0;34m\u001b[0m\u001b[0;34m\u001b[0m\u001b[0m\n\u001b[1;32m    210\u001b[0m                     \u001b[0mkwargs\u001b[0m\u001b[0;34m[\u001b[0m\u001b[0mnew_arg_name\u001b[0m\u001b[0;34m]\u001b[0m \u001b[0;34m=\u001b[0m \u001b[0mnew_arg_value\u001b[0m\u001b[0;34m\u001b[0m\u001b[0;34m\u001b[0m\u001b[0m\n\u001b[0;32m--> 211\u001b[0;31m             \u001b[0;32mreturn\u001b[0m \u001b[0mfunc\u001b[0m\u001b[0;34m(\u001b[0m\u001b[0;34m*\u001b[0m\u001b[0margs\u001b[0m\u001b[0;34m,\u001b[0m \u001b[0;34m**\u001b[0m\u001b[0mkwargs\u001b[0m\u001b[0;34m)\u001b[0m\u001b[0;34m\u001b[0m\u001b[0;34m\u001b[0m\u001b[0m\n\u001b[0m\u001b[1;32m    212\u001b[0m \u001b[0;34m\u001b[0m\u001b[0m\n\u001b[1;32m    213\u001b[0m         \u001b[0;32mreturn\u001b[0m \u001b[0mcast\u001b[0m\u001b[0;34m(\u001b[0m\u001b[0mF\u001b[0m\u001b[0;34m,\u001b[0m \u001b[0mwrapper\u001b[0m\u001b[0;34m)\u001b[0m\u001b[0;34m\u001b[0m\u001b[0;34m\u001b[0m\u001b[0m\n",
      "\u001b[0;32m~/opt/anaconda3/lib/python3.9/site-packages/pandas/util/_decorators.py\u001b[0m in \u001b[0;36mwrapper\u001b[0;34m(*args, **kwargs)\u001b[0m\n\u001b[1;32m    329\u001b[0m                     \u001b[0mstacklevel\u001b[0m\u001b[0;34m=\u001b[0m\u001b[0mfind_stack_level\u001b[0m\u001b[0;34m(\u001b[0m\u001b[0;34m)\u001b[0m\u001b[0;34m,\u001b[0m\u001b[0;34m\u001b[0m\u001b[0;34m\u001b[0m\u001b[0m\n\u001b[1;32m    330\u001b[0m                 )\n\u001b[0;32m--> 331\u001b[0;31m             \u001b[0;32mreturn\u001b[0m \u001b[0mfunc\u001b[0m\u001b[0;34m(\u001b[0m\u001b[0;34m*\u001b[0m\u001b[0margs\u001b[0m\u001b[0;34m,\u001b[0m \u001b[0;34m**\u001b[0m\u001b[0mkwargs\u001b[0m\u001b[0;34m)\u001b[0m\u001b[0;34m\u001b[0m\u001b[0;34m\u001b[0m\u001b[0m\n\u001b[0m\u001b[1;32m    332\u001b[0m \u001b[0;34m\u001b[0m\u001b[0m\n\u001b[1;32m    333\u001b[0m         \u001b[0;31m# error: \"Callable[[VarArg(Any), KwArg(Any)], Any]\" has no\u001b[0m\u001b[0;34m\u001b[0m\u001b[0;34m\u001b[0m\u001b[0m\n",
      "\u001b[0;32m~/opt/anaconda3/lib/python3.9/site-packages/pandas/io/json/_json.py\u001b[0m in \u001b[0;36mread_json\u001b[0;34m(path_or_buf, orient, typ, dtype, convert_axes, convert_dates, keep_default_dates, numpy, precise_float, date_unit, encoding, encoding_errors, lines, chunksize, compression, nrows, storage_options)\u001b[0m\n\u001b[1;32m    731\u001b[0m         \u001b[0mconvert_axes\u001b[0m \u001b[0;34m=\u001b[0m \u001b[0;32mTrue\u001b[0m\u001b[0;34m\u001b[0m\u001b[0;34m\u001b[0m\u001b[0m\n\u001b[1;32m    732\u001b[0m \u001b[0;34m\u001b[0m\u001b[0m\n\u001b[0;32m--> 733\u001b[0;31m     json_reader = JsonReader(\n\u001b[0m\u001b[1;32m    734\u001b[0m         \u001b[0mpath_or_buf\u001b[0m\u001b[0;34m,\u001b[0m\u001b[0;34m\u001b[0m\u001b[0;34m\u001b[0m\u001b[0m\n\u001b[1;32m    735\u001b[0m         \u001b[0morient\u001b[0m\u001b[0;34m=\u001b[0m\u001b[0morient\u001b[0m\u001b[0;34m,\u001b[0m\u001b[0;34m\u001b[0m\u001b[0;34m\u001b[0m\u001b[0m\n",
      "\u001b[0;32m~/opt/anaconda3/lib/python3.9/site-packages/pandas/io/json/_json.py\u001b[0m in \u001b[0;36m__init__\u001b[0;34m(self, filepath_or_buffer, orient, typ, dtype, convert_axes, convert_dates, keep_default_dates, numpy, precise_float, date_unit, encoding, lines, chunksize, compression, nrows, storage_options, encoding_errors)\u001b[0m\n\u001b[1;32m    816\u001b[0m                 \u001b[0;32mraise\u001b[0m \u001b[0mValueError\u001b[0m\u001b[0;34m(\u001b[0m\u001b[0;34m\"nrows can only be passed if lines=True\"\u001b[0m\u001b[0;34m)\u001b[0m\u001b[0;34m\u001b[0m\u001b[0;34m\u001b[0m\u001b[0m\n\u001b[1;32m    817\u001b[0m \u001b[0;34m\u001b[0m\u001b[0m\n\u001b[0;32m--> 818\u001b[0;31m         \u001b[0mdata\u001b[0m \u001b[0;34m=\u001b[0m \u001b[0mself\u001b[0m\u001b[0;34m.\u001b[0m\u001b[0m_get_data_from_filepath\u001b[0m\u001b[0;34m(\u001b[0m\u001b[0mfilepath_or_buffer\u001b[0m\u001b[0;34m)\u001b[0m\u001b[0;34m\u001b[0m\u001b[0;34m\u001b[0m\u001b[0m\n\u001b[0m\u001b[1;32m    819\u001b[0m         \u001b[0mself\u001b[0m\u001b[0;34m.\u001b[0m\u001b[0mdata\u001b[0m \u001b[0;34m=\u001b[0m \u001b[0mself\u001b[0m\u001b[0;34m.\u001b[0m\u001b[0m_preprocess_data\u001b[0m\u001b[0;34m(\u001b[0m\u001b[0mdata\u001b[0m\u001b[0;34m)\u001b[0m\u001b[0;34m\u001b[0m\u001b[0;34m\u001b[0m\u001b[0m\n\u001b[1;32m    820\u001b[0m \u001b[0;34m\u001b[0m\u001b[0m\n",
      "\u001b[0;32m~/opt/anaconda3/lib/python3.9/site-packages/pandas/io/json/_json.py\u001b[0m in \u001b[0;36m_get_data_from_filepath\u001b[0;34m(self, filepath_or_buffer)\u001b[0m\n\u001b[1;32m    856\u001b[0m             \u001b[0;32mor\u001b[0m \u001b[0mfile_exists\u001b[0m\u001b[0;34m(\u001b[0m\u001b[0mfilepath_or_buffer\u001b[0m\u001b[0;34m)\u001b[0m\u001b[0;34m\u001b[0m\u001b[0;34m\u001b[0m\u001b[0m\n\u001b[1;32m    857\u001b[0m         ):\n\u001b[0;32m--> 858\u001b[0;31m             self.handles = get_handle(\n\u001b[0m\u001b[1;32m    859\u001b[0m                 \u001b[0mfilepath_or_buffer\u001b[0m\u001b[0;34m,\u001b[0m\u001b[0;34m\u001b[0m\u001b[0;34m\u001b[0m\u001b[0m\n\u001b[1;32m    860\u001b[0m                 \u001b[0;34m\"r\"\u001b[0m\u001b[0;34m,\u001b[0m\u001b[0;34m\u001b[0m\u001b[0;34m\u001b[0m\u001b[0m\n",
      "\u001b[0;32m~/opt/anaconda3/lib/python3.9/site-packages/pandas/io/common.py\u001b[0m in \u001b[0;36mget_handle\u001b[0;34m(path_or_buf, mode, encoding, compression, memory_map, is_text, errors, storage_options)\u001b[0m\n\u001b[1;32m    898\u001b[0m \u001b[0;34m\u001b[0m\u001b[0m\n\u001b[1;32m    899\u001b[0m     \u001b[0;32mif\u001b[0m \u001b[0;34m\"r\"\u001b[0m \u001b[0;32min\u001b[0m \u001b[0mioargs\u001b[0m\u001b[0;34m.\u001b[0m\u001b[0mmode\u001b[0m \u001b[0;32mand\u001b[0m \u001b[0;32mnot\u001b[0m \u001b[0mhasattr\u001b[0m\u001b[0;34m(\u001b[0m\u001b[0mhandle\u001b[0m\u001b[0;34m,\u001b[0m \u001b[0;34m\"read\"\u001b[0m\u001b[0;34m)\u001b[0m\u001b[0;34m:\u001b[0m\u001b[0;34m\u001b[0m\u001b[0;34m\u001b[0m\u001b[0m\n\u001b[0;32m--> 900\u001b[0;31m         raise TypeError(\n\u001b[0m\u001b[1;32m    901\u001b[0m             \u001b[0;34m\"Expected file path name or file-like object, \"\u001b[0m\u001b[0;34m\u001b[0m\u001b[0;34m\u001b[0m\u001b[0m\n\u001b[1;32m    902\u001b[0m             \u001b[0;34mf\"got {type(ioargs.filepath_or_buffer)} type\"\u001b[0m\u001b[0;34m\u001b[0m\u001b[0;34m\u001b[0m\u001b[0m\n",
      "\u001b[0;31mTypeError\u001b[0m: Expected file path name or file-like object, got <class 'bytes'> type"
     ]
    }
   ],
   "source": [
    "import pandas as pd\n",
    "import requests\n",
    "\n",
    "# Set up the API request for COVID-19 case data\n",
    "url_cases = 'https://api.covidtracking.com/v1/states/daily.json'\n",
    "response_cases = requests.get(url_cases)\n",
    "\n",
    "# Load the COVID-19 case data into a pandas DataFrame\n",
    "df_cases = pd.read_json(response_cases.content)\n",
    "\n",
    "# Select only the columns you want in your table\n",
    "table_columns = ['date', 'state', 'positive']\n",
    "\n",
    "# Create the table for COVID-19 cases\n",
    "table_cases = df_cases[table_columns]\n",
    "\n",
    "# Rename the columns for clarity\n",
    "table_cases.columns = ['Date', 'State', 'Cases']\n",
    "\n",
    "# Set up the API request for temperature data\n",
    "url_temp = 'https://api.covidtracking.com/v1/states/daily.json'\n",
    "response_temp = requests.get(url_temp)\n",
    "\n",
    "# Load the temperature data into a pandas DataFrame\n",
    "df_temp = pd.read_json(response_temp.content)\n",
    "\n",
    "# Select only the columns you want in your table\n",
    "table_columns = ['date', 'state', 'temperature']\n",
    "\n",
    "# Create the table for temperature data\n",
    "table_temp = df_temp[table_columns]\n",
    "\n",
    "# Rename the columns for clarity\n",
    "table_temp.columns = ['Date', 'State', 'Temperature']\n",
    "\n",
    "# Merge the two tables on Date and State\n",
    "merged_table = pd.merge(table_cases, table_temp, on=['Date', 'State'])\n",
    "\n",
    "# Group the data by state and calculate the average COVID-19 cases and temperature\n",
    "grouped_table = merged_table.groupby(['State']).mean()\n",
    "\n",
    "# Calculate the correlation coefficient between COVID-19 cases and temperature for each state\n",
    "correlations = grouped_table.corr(method='pearson')\n",
    "\n",
    "# Print the correlation coefficients\n",
    "print(correlations)\n"
   ]
  },
  {
   "cell_type": "code",
   "execution_count": null,
   "id": "4afc5ff8",
   "metadata": {},
   "outputs": [],
   "source": []
  }
 ],
 "metadata": {
  "kernelspec": {
   "display_name": "PythonData",
   "language": "python",
   "name": "pythondata"
  },
  "language_info": {
   "codemirror_mode": {
    "name": "ipython",
    "version": 3
   },
   "file_extension": ".py",
   "mimetype": "text/x-python",
   "name": "python",
   "nbconvert_exporter": "python",
   "pygments_lexer": "ipython3",
   "version": "3.9.7"
  }
 },
 "nbformat": 4,
 "nbformat_minor": 5
}
