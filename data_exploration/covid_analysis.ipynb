{
 "cells": [
  {
   "cell_type": "code",
   "execution_count": null,
   "metadata": {},
   "outputs": [],
   "source": [
    "import pandas as pd\n",
    "import numpy as np"
   ]
  },
  {
   "attachments": {},
   "cell_type": "markdown",
   "metadata": {},
   "source": [
    "# Import and Transform Data"
   ]
  },
  {
   "cell_type": "code",
   "execution_count": null,
   "metadata": {},
   "outputs": [],
   "source": [
    "# Read CSV data and verify\n",
    "sparse_covid_df = pd.read_csv('../data/covid/sparse_county_covid.csv',index_col=0)\n",
    "dense_covid_df = pd.read_csv('../data/covid/dense_county_covid.csv',index_col=0)\n",
    "weather_df = pd.read_csv('../data/weather/county_weather.csv',index_col=0)"
   ]
  },
  {
   "cell_type": "code",
   "execution_count": null,
   "metadata": {},
   "outputs": [],
   "source": [
    "# Add population density and total population values\n",
    "density = {\n",
    "    'baltimore': 6866,\n",
    "    'essex': 6168,\n",
    "    'cook': 5301,\n",
    "    'union': 5150,\n",
    "    'norfolk': 5026,\n",
    "    'nassau': 4954,\n",
    "    'harrisonburg':4765,\n",
    "    'fairfax':2454,\n",
    "    'camden':2289,\n",
    "    'harris':2700,\n",
    "    'franklin':2186,\n",
    "    'marion':2466,\n",
    "    'dekalb':2482,\n",
    "    'duval':1305,\n",
    "    'wake':1377,\n",
    "    'bexar':1620\n",
    "}\n",
    "\n",
    "population = {\n",
    "    'baltimore': 621342,\n",
    "    'essex': 755618,\n",
    "    'cook': 5231351,\n",
    "    'union': 543976,\n",
    "    'norfolk': 245782,\n",
    "    'nassau': 74629,\n",
    "    'harrisonburg':50981,\n",
    "    'fairfax':1118602,\n",
    "    'camden':513539,\n",
    "    'harris':4253700,\n",
    "    'franklin':1195537,\n",
    "    'marion':918977,\n",
    "    'dekalb':707089,\n",
    "    'duval':879602,\n",
    "    'wake':952151,\n",
    "    'bexar':1785704\n",
    "}"
   ]
  },
  {
   "cell_type": "code",
   "execution_count": null,
   "metadata": {},
   "outputs": [],
   "source": [
    "# Add pop_density and population columns to covid data\n",
    "sparse_covid_df['population'] = pd.Series(dtype=int)\n",
    "sparse_covid_df['pop_density'] = pd.Series(dtype=int)\n",
    "\n",
    "dense_covid_df['population'] = pd.Series(dtype=int)\n",
    "dense_covid_df['pop_density'] = pd.Series(dtype=int)\n",
    "\n",
    "# Set population and density columns for sparse counties\n",
    "for i in range(len(sparse_covid_df.index)):\n",
    "    county = sparse_covid_df.iloc[i,1]\n",
    "\n",
    "    sparse_covid_df.iloc[i,7] = population[county]\n",
    "    sparse_covid_df.iloc[i,8] = density[county]\n",
    "\n",
    "# Set population and density columns for dense counties\n",
    "for i in range(len(dense_covid_df.index)):\n",
    "    county = dense_covid_df.iloc[i,1]\n",
    "\n",
    "    dense_covid_df.iloc[i,7] = population[county]\n",
    "    dense_covid_df.iloc[i,8] = density[county]"
   ]
  },
  {
   "cell_type": "code",
   "execution_count": null,
   "metadata": {},
   "outputs": [],
   "source": [
    "# Add past_delta14 columns to sparse and dense counties\n",
    "sparse_covid_df['past_delta14'] = pd.Series(dtype=int)\n",
    "dense_covid_df['past_delta14'] = pd.Series(dtype=int)\n",
    "\n",
    "# Sparse county past_delta_14\n",
    "for i in range(14,len(sparse_covid_df.index)):\n",
    "\n",
    "    # Set past_delta_14\n",
    "    past_cases = sparse_covid_df.iloc[i-14,3]\n",
    "    present_cases = sparse_covid_df.iloc[i,3]\n",
    "    delta14 = present_cases - past_cases\n",
    "\n",
    "    sparse_covid_df.iloc[i,9] = delta14\n",
    "\n",
    "# Dense county past delta14\n",
    "for i in range(14,len(dense_covid_df.index)):\n",
    "\n",
    "    # Set past_delta_14\n",
    "    past_cases = dense_covid_df.iloc[i-14,3]\n",
    "    present_cases = dense_covid_df.iloc[i,3]\n",
    "    delta14 = present_cases - past_cases\n",
    "\n",
    "    dense_covid_df.iloc[i,9] = delta14"
   ]
  },
  {
   "cell_type": "code",
   "execution_count": null,
   "metadata": {},
   "outputs": [],
   "source": [
    "# Sort weather data according to the sparse or dense county sets\n",
    "sparse_counties = sparse_covid_df['county'].unique()\n",
    "dense_counties = dense_covid_df['county'].unique()\n",
    "\n",
    "# Sort weather for each set\n",
    "sparse_weather_df = weather_df[weather_df['county'].isin(sparse_counties)]\n",
    "dense_weather_df = weather_df[weather_df['county'].isin(dense_counties)]"
   ]
  },
  {
   "cell_type": "code",
   "execution_count": null,
   "metadata": {},
   "outputs": [],
   "source": [
    "# Merge weather data on sparse and dense covid data\n",
    "sparse_weather_covid_df = sparse_covid_df.merge(sparse_weather_df,on=['date','county'])\n",
    "dense_weather_covid_df = dense_covid_df.merge(dense_weather_df,on=['date','county'])"
   ]
  },
  {
   "cell_type": "code",
   "execution_count": null,
   "metadata": {},
   "outputs": [],
   "source": [
    "# Verify Sparse Data\n",
    "sparse_weather_covid_df.head()"
   ]
  },
  {
   "cell_type": "code",
   "execution_count": null,
   "metadata": {},
   "outputs": [],
   "source": [
    "# Verify Dense Data\n",
    "dense_weather_covid_df.head()"
   ]
  },
  {
   "cell_type": "code",
   "execution_count": null,
   "metadata": {},
   "outputs": [],
   "source": [
    "# Set Feature categories\n",
    "weather_features = ['temp_mean(C)','precip_sum(mm)','wind_max(km/h)','min_humidity(%)','max_humidity(%)','mean_humidity(%)']\n",
    "county_features = ['population','pop_density']\n",
    "covid_features = ['new_cases','past_delta14']\n",
    "target = ['future_delta14']"
   ]
  },
  {
   "cell_type": "code",
   "execution_count": null,
   "metadata": {},
   "outputs": [],
   "source": [
    "# Reorder and drop unnecessary columns\n",
    "sparse_weather_covid_df = sparse_weather_covid_df[target + county_features + covid_features + weather_features]\n",
    "dense_weather_covid_df = dense_weather_covid_df[target + county_features + covid_features + weather_features]"
   ]
  },
  {
   "attachments": {},
   "cell_type": "markdown",
   "metadata": {},
   "source": [
    "# Analyze Data"
   ]
  },
  {
   "attachments": {},
   "cell_type": "markdown",
   "metadata": {},
   "source": [
    "## Sparse County Data"
   ]
  },
  {
   "cell_type": "code",
   "execution_count": null,
   "metadata": {},
   "outputs": [],
   "source": [
    "# Sparse Data Summary Statistics\n",
    "sparse_weather_covid_df.describe()"
   ]
  },
  {
   "cell_type": "code",
   "execution_count": null,
   "metadata": {},
   "outputs": [],
   "source": [
    "sparse_weather_covid_df.corr()"
   ]
  },
  {
   "cell_type": "code",
   "execution_count": null,
   "metadata": {},
   "outputs": [],
   "source": [
    "# Scatter plot for target with county features\n",
    "pd.plotting.scatter_matrix(sparse_weather_covid_df[target + county_features])"
   ]
  },
  {
   "cell_type": "code",
   "execution_count": null,
   "metadata": {},
   "outputs": [],
   "source": [
    "# Scatter plot for target with covid features\n",
    "pd.plotting.scatter_matrix(sparse_weather_covid_df[target + covid_features])"
   ]
  },
  {
   "cell_type": "code",
   "execution_count": null,
   "metadata": {},
   "outputs": [],
   "source": [
    "# Scatter plot for target with weather features\n",
    "pd.plotting.scatter_matrix(sparse_weather_covid_df[target + weather_features])"
   ]
  },
  {
   "attachments": {},
   "cell_type": "markdown",
   "metadata": {},
   "source": [
    "## Dense County Data"
   ]
  },
  {
   "cell_type": "code",
   "execution_count": null,
   "metadata": {},
   "outputs": [],
   "source": [
    "dense_weather_covid_df.describe()"
   ]
  },
  {
   "cell_type": "code",
   "execution_count": null,
   "metadata": {},
   "outputs": [],
   "source": [
    "dense_weather_covid_df.corr()"
   ]
  },
  {
   "cell_type": "code",
   "execution_count": null,
   "metadata": {},
   "outputs": [],
   "source": [
    "# Scatter plot for target with county features\n",
    "pd.plotting.scatter_matrix(dense_weather_covid_df[target + county_features])"
   ]
  },
  {
   "cell_type": "code",
   "execution_count": null,
   "metadata": {},
   "outputs": [],
   "source": [
    "# Scatter plot for target with covid features\n",
    "pd.plotting.scatter_matrix(dense_weather_covid_df[target + covid_features])"
   ]
  },
  {
   "cell_type": "code",
   "execution_count": null,
   "metadata": {},
   "outputs": [],
   "source": [
    "# Scatter plot for target with weather features\n",
    "pd.plotting.scatter_matrix(sparse_weather_covid_df[target + weather_features])"
   ]
  }
 ],
 "metadata": {
  "kernelspec": {
   "display_name": "tf",
   "language": "python",
   "name": "python3"
  },
  "language_info": {
   "codemirror_mode": {
    "name": "ipython",
    "version": 3
   },
   "file_extension": ".py",
   "mimetype": "text/x-python",
   "name": "python",
   "nbconvert_exporter": "python",
   "pygments_lexer": "ipython3",
   "version": "3.10.9"
  },
  "orig_nbformat": 4
 },
 "nbformat": 4,
 "nbformat_minor": 2
}
