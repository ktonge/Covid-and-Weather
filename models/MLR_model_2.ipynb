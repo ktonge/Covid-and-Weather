{
 "cells": [
  {
   "cell_type": "code",
   "execution_count": 1,
   "metadata": {},
   "outputs": [],
   "source": [
    "import pandas as pd\n",
    "import numpy as np\n",
    "from sklearn.linear_model import LinearRegression\n",
    "from sklearn.model_selection import train_test_split\n",
    "from sqlalchemy import create_engine\n",
    "from config import DB_NAME, DB_URL, DB_PORT, DB_NAME, USERNAME, PASSWORD"
   ]
  },
  {
   "attachments": {},
   "cell_type": "markdown",
   "metadata": {},
   "source": [
    "# Import Data"
   ]
  },
  {
   "cell_type": "code",
   "execution_count": 5,
   "metadata": {},
   "outputs": [],
   "source": [
    "engine_string = \"postgresql+psycopg2://{user}:{password}@{host}:{port}/{database}\".format(\n",
    "    user = USERNAME,\n",
    "    password = PASSWORD,\n",
    "    host = DB_URL,\n",
    "    port = DB_PORT,\n",
    "    database = DB_NAME\n",
    ")\n",
    "\n",
    "engine = create_engine(engine_string)"
   ]
  },
  {
   "cell_type": "code",
   "execution_count": 11,
   "metadata": {},
   "outputs": [],
   "source": [
    "# Pull tables from database.\n",
    "# !!! Note read_sql_table() requires sqlalchemy v1.4\n",
    "sparse_covid_df = pd.read_sql_table('sparse_county_covid',engine).drop(columns=['index'])\n",
    "dense_covid_df = pd.read_sql_table('dense_county_covid',engine).drop(columns=['index'])\n",
    "weather_df = pd.read_sql_table('county_weather',engine).drop(columns=['index'])\n",
    "county_df = pd.read_sql_table('county_pop',engine).drop(columns=['index'])"
   ]
  },
  {
   "cell_type": "code",
   "execution_count": 12,
   "metadata": {},
   "outputs": [
    {
     "data": {
      "text/html": [
       "<div>\n",
       "<style scoped>\n",
       "    .dataframe tbody tr th:only-of-type {\n",
       "        vertical-align: middle;\n",
       "    }\n",
       "\n",
       "    .dataframe tbody tr th {\n",
       "        vertical-align: top;\n",
       "    }\n",
       "\n",
       "    .dataframe thead th {\n",
       "        text-align: right;\n",
       "    }\n",
       "</style>\n",
       "<table border=\"1\" class=\"dataframe\">\n",
       "  <thead>\n",
       "    <tr style=\"text-align: right;\">\n",
       "      <th></th>\n",
       "      <th>date</th>\n",
       "      <th>county</th>\n",
       "      <th>state</th>\n",
       "      <th>total_cases</th>\n",
       "      <th>new_cases</th>\n",
       "      <th>future_delta7</th>\n",
       "      <th>future_delta14</th>\n",
       "    </tr>\n",
       "  </thead>\n",
       "  <tbody>\n",
       "    <tr>\n",
       "      <th>0</th>\n",
       "      <td>2020-03-07</td>\n",
       "      <td>fairfax</td>\n",
       "      <td>virginia</td>\n",
       "      <td>1</td>\n",
       "      <td>1</td>\n",
       "      <td>9.0</td>\n",
       "      <td>21.0</td>\n",
       "    </tr>\n",
       "    <tr>\n",
       "      <th>1</th>\n",
       "      <td>2020-03-08</td>\n",
       "      <td>fairfax</td>\n",
       "      <td>virginia</td>\n",
       "      <td>2</td>\n",
       "      <td>1</td>\n",
       "      <td>8.0</td>\n",
       "      <td>29.0</td>\n",
       "    </tr>\n",
       "    <tr>\n",
       "      <th>2</th>\n",
       "      <td>2020-03-09</td>\n",
       "      <td>fairfax</td>\n",
       "      <td>virginia</td>\n",
       "      <td>4</td>\n",
       "      <td>2</td>\n",
       "      <td>6.0</td>\n",
       "      <td>39.0</td>\n",
       "    </tr>\n",
       "    <tr>\n",
       "      <th>3</th>\n",
       "      <td>2020-03-10</td>\n",
       "      <td>fairfax</td>\n",
       "      <td>virginia</td>\n",
       "      <td>4</td>\n",
       "      <td>0</td>\n",
       "      <td>8.0</td>\n",
       "      <td>42.0</td>\n",
       "    </tr>\n",
       "    <tr>\n",
       "      <th>4</th>\n",
       "      <td>2020-03-11</td>\n",
       "      <td>fairfax</td>\n",
       "      <td>virginia</td>\n",
       "      <td>4</td>\n",
       "      <td>0</td>\n",
       "      <td>10.0</td>\n",
       "      <td>72.0</td>\n",
       "    </tr>\n",
       "  </tbody>\n",
       "</table>\n",
       "</div>"
      ],
      "text/plain": [
       "        date   county     state  total_cases  new_cases  future_delta7  \\\n",
       "0 2020-03-07  fairfax  virginia            1          1            9.0   \n",
       "1 2020-03-08  fairfax  virginia            2          1            8.0   \n",
       "2 2020-03-09  fairfax  virginia            4          2            6.0   \n",
       "3 2020-03-10  fairfax  virginia            4          0            8.0   \n",
       "4 2020-03-11  fairfax  virginia            4          0           10.0   \n",
       "\n",
       "   future_delta14  \n",
       "0            21.0  \n",
       "1            29.0  \n",
       "2            39.0  \n",
       "3            42.0  \n",
       "4            72.0  "
      ]
     },
     "execution_count": 12,
     "metadata": {},
     "output_type": "execute_result"
    }
   ],
   "source": [
    "sparse_covid_df.head()"
   ]
  },
  {
   "cell_type": "code",
   "execution_count": null,
   "metadata": {},
   "outputs": [],
   "source": [
    "#####################################################################\n",
    "### !!! This csv import to be replaced by import from DB instance !!!\n",
    "### !!! For model design only !!!\n",
    "#####################################################################\n",
    "\n",
    "# Read CSV data and verify\n",
    "# sparse_covid_df = pd.read_csv('../data/covid/sparse_county_covid.csv',index_col=0)\n",
    "# dense_covid_df = pd.read_csv('../data/covid/dense_county_covid.csv',index_col=0)\n",
    "# weather_df = pd.read_csv('../data/weather/county_weather.csv',index_col=0)"
   ]
  },
  {
   "attachments": {},
   "cell_type": "markdown",
   "metadata": {},
   "source": [
    "# Transform Data"
   ]
  },
  {
   "cell_type": "code",
   "execution_count": null,
   "metadata": {},
   "outputs": [],
   "source": [
    "####################################################################\n",
    "### !!! To be removed once database setup !!!\n",
    "### !!! For model design only !!!\n",
    "####################################################################\n",
    "# # Add population density and total population values\n",
    "# density = {\n",
    "#     'baltimore': 6866,\n",
    "#     'essex': 6168,\n",
    "#     'cook': 5301,\n",
    "#     'union': 5150,\n",
    "#     'norfolk': 5026,\n",
    "#     'nassau': 4954,\n",
    "#     'harrisonburg':4765,\n",
    "#     'fairfax':2454,\n",
    "#     'camden':2289,\n",
    "#     'harris':2700,\n",
    "#     'franklin':2186,\n",
    "#     'marion':2466,\n",
    "#     'dekalb':2482,\n",
    "#     'duval':1305,\n",
    "#     'wake':1377,\n",
    "#     'bexar':1620\n",
    "# }\n",
    "\n",
    "# population = {\n",
    "#     'baltimore': 621342,\n",
    "#     'essex': 755618,\n",
    "#     'cook': 5231351,\n",
    "#     'union': 543976,\n",
    "#     'norfolk': 245782,\n",
    "#     'nassau': 74629,\n",
    "#     'harrisonburg':50981,\n",
    "#     'fairfax':1118602,\n",
    "#     'camden':513539,\n",
    "#     'harris':4253700,\n",
    "#     'franklin':1195537,\n",
    "#     'marion':918977,\n",
    "#     'dekalb':707089,\n",
    "#     'duval':879602,\n",
    "#     'wake':952151,\n",
    "#     'bexar':1785704\n",
    "# }\n"
   ]
  },
  {
   "cell_type": "code",
   "execution_count": null,
   "metadata": {},
   "outputs": [],
   "source": [
    "####################################################################\n",
    "### !!! To be removed once database setup !!!\n",
    "### !!! For model design only !!!\n",
    "####################################################################\n",
    "\n",
    "# # Add pop_density and population columns to covid data\n",
    "# sparse_covid_df['population'] = pd.Series(dtype=int)\n",
    "# sparse_covid_df['pop_density'] = pd.Series(dtype=int)\n",
    "\n",
    "# dense_covid_df['population'] = pd.Series(dtype=int)\n",
    "# dense_covid_df['pop_density'] = pd.Series(dtype=int)\n",
    "\n",
    "# # Set population and density columns for sparse counties\n",
    "# for i in range(len(sparse_covid_df.index)):\n",
    "#     county = sparse_covid_df.iloc[i,1]\n",
    "\n",
    "#     sparse_covid_df.iloc[i,7] = population[county]\n",
    "#     sparse_covid_df.iloc[i,8] = density[county]\n",
    "\n",
    "# # Set population and density columns for dense counties\n",
    "# for i in range(len(dense_covid_df.index)):\n",
    "#     county = dense_covid_df.iloc[i,1]\n",
    "\n",
    "#     dense_covid_df.iloc[i,7] = population[county]\n",
    "#     dense_covid_df.iloc[i,8] = density[county]"
   ]
  },
  {
   "cell_type": "code",
   "execution_count": 13,
   "metadata": {},
   "outputs": [
    {
     "ename": "IndexError",
     "evalue": "iloc cannot enlarge its target object",
     "output_type": "error",
     "traceback": [
      "\u001b[0;31m---------------------------------------------------------------------------\u001b[0m",
      "\u001b[0;31mIndexError\u001b[0m                                Traceback (most recent call last)",
      "Cell \u001b[0;32mIn[13], line 13\u001b[0m\n\u001b[1;32m     10\u001b[0m     present_cases \u001b[39m=\u001b[39m sparse_covid_df\u001b[39m.\u001b[39miloc[i,\u001b[39m3\u001b[39m]\n\u001b[1;32m     11\u001b[0m     delta14 \u001b[39m=\u001b[39m present_cases \u001b[39m-\u001b[39m past_cases\n\u001b[0;32m---> 13\u001b[0m     sparse_covid_df\u001b[39m.\u001b[39;49miloc[i,\u001b[39m9\u001b[39;49m] \u001b[39m=\u001b[39m delta14\n\u001b[1;32m     15\u001b[0m \u001b[39m# Dense county past delta14\u001b[39;00m\n\u001b[1;32m     16\u001b[0m \u001b[39mfor\u001b[39;00m i \u001b[39min\u001b[39;00m \u001b[39mrange\u001b[39m(\u001b[39m14\u001b[39m,\u001b[39mlen\u001b[39m(dense_covid_df\u001b[39m.\u001b[39mindex)):\n\u001b[1;32m     17\u001b[0m \n\u001b[1;32m     18\u001b[0m     \u001b[39m# Set past_delta_14\u001b[39;00m\n",
      "File \u001b[0;32m~/miniconda/envs/tf/lib/python3.10/site-packages/pandas/core/indexing.py:815\u001b[0m, in \u001b[0;36m_LocationIndexer.__setitem__\u001b[0;34m(self, key, value)\u001b[0m\n\u001b[1;32m    813\u001b[0m     key \u001b[39m=\u001b[39m com\u001b[39m.\u001b[39mapply_if_callable(key, \u001b[39mself\u001b[39m\u001b[39m.\u001b[39mobj)\n\u001b[1;32m    814\u001b[0m indexer \u001b[39m=\u001b[39m \u001b[39mself\u001b[39m\u001b[39m.\u001b[39m_get_setitem_indexer(key)\n\u001b[0;32m--> 815\u001b[0m \u001b[39mself\u001b[39;49m\u001b[39m.\u001b[39;49m_has_valid_setitem_indexer(key)\n\u001b[1;32m    817\u001b[0m iloc \u001b[39m=\u001b[39m \u001b[39mself\u001b[39m \u001b[39mif\u001b[39;00m \u001b[39mself\u001b[39m\u001b[39m.\u001b[39mname \u001b[39m==\u001b[39m \u001b[39m\"\u001b[39m\u001b[39miloc\u001b[39m\u001b[39m\"\u001b[39m \u001b[39melse\u001b[39;00m \u001b[39mself\u001b[39m\u001b[39m.\u001b[39mobj\u001b[39m.\u001b[39miloc\n\u001b[1;32m    818\u001b[0m iloc\u001b[39m.\u001b[39m_setitem_with_indexer(indexer, value, \u001b[39mself\u001b[39m\u001b[39m.\u001b[39mname)\n",
      "File \u001b[0;32m~/miniconda/envs/tf/lib/python3.10/site-packages/pandas/core/indexing.py:1518\u001b[0m, in \u001b[0;36m_iLocIndexer._has_valid_setitem_indexer\u001b[0;34m(self, indexer)\u001b[0m\n\u001b[1;32m   1516\u001b[0m \u001b[39melif\u001b[39;00m is_integer(i):\n\u001b[1;32m   1517\u001b[0m     \u001b[39mif\u001b[39;00m i \u001b[39m>\u001b[39m\u001b[39m=\u001b[39m \u001b[39mlen\u001b[39m(ax):\n\u001b[0;32m-> 1518\u001b[0m         \u001b[39mraise\u001b[39;00m \u001b[39mIndexError\u001b[39;00m(\u001b[39m\"\u001b[39m\u001b[39miloc cannot enlarge its target object\u001b[39m\u001b[39m\"\u001b[39m)\n\u001b[1;32m   1519\u001b[0m \u001b[39melif\u001b[39;00m \u001b[39misinstance\u001b[39m(i, \u001b[39mdict\u001b[39m):\n\u001b[1;32m   1520\u001b[0m     \u001b[39mraise\u001b[39;00m \u001b[39mIndexError\u001b[39;00m(\u001b[39m\"\u001b[39m\u001b[39miloc cannot enlarge its target object\u001b[39m\u001b[39m\"\u001b[39m)\n",
      "\u001b[0;31mIndexError\u001b[0m: iloc cannot enlarge its target object"
     ]
    }
   ],
   "source": [
    "# Add past_delta14 columns to sparse and dense counties\n",
    "sparse_covid_df['past_delta14'] = pd.Series(dtype=int)\n",
    "dense_covid_df['past_delta14'] = pd.Series(dtype=int)\n",
    "\n",
    "# Sparse county past_delta_14\n",
    "for i in range(14,len(sparse_covid_df.index)):\n",
    "\n",
    "    # Set past_delta_14\n",
    "    past_cases = sparse_covid_df.iloc[i-14,3]\n",
    "    present_cases = sparse_covid_df.iloc[i,3]\n",
    "    delta14 = present_cases - past_cases\n",
    "\n",
    "    sparse_covid_df.iloc[i,7] = delta14\n",
    "\n",
    "# Dense county past delta14\n",
    "for i in range(14,len(dense_covid_df.index)):\n",
    "\n",
    "    # Set past_delta_14\n",
    "    past_cases = dense_covid_df.iloc[i-14,3]\n",
    "    present_cases = dense_covid_df.iloc[i,3]\n",
    "    delta14 = present_cases - past_cases\n",
    "\n",
    "    dense_covid_df.iloc[i,7] = delta14"
   ]
  },
  {
   "cell_type": "code",
   "execution_count": null,
   "metadata": {},
   "outputs": [],
   "source": [
    "# Sort weather data according to the sparse or dense county sets\n",
    "sparse_counties = sparse_covid_df['county'].unique()\n",
    "dense_counties = dense_covid_df['county'].unique()\n",
    "\n",
    "# Sort weather for each set\n",
    "sparse_weather_df = weather_df[weather_df['county'].isin(sparse_counties)]\n",
    "dense_weather_df = weather_df[weather_df['county'].isin(dense_counties)]\n",
    "\n",
    "# Sort county data for each set\n",
    "sparse_county_df = county_df[county_df['county'].isin(sparse_counties)]\n",
    "dense_county_df = county_df[county_df['county'].isin(dense_counties)]"
   ]
  },
  {
   "cell_type": "code",
   "execution_count": null,
   "metadata": {},
   "outputs": [],
   "source": [
    "# Merge weather data on sparse and dense data\n",
    "sparse_weather_covid_df = sparse_covid_df.merge(sparse_weather_df,on=['date','county'])\n",
    "dense_weather_covid_df = dense_covid_df.merge(dense_weather_df,on=['date','county'])"
   ]
  },
  {
   "attachments": {},
   "cell_type": "markdown",
   "metadata": {},
   "source": [
    "# NEED TO DROP DUPLICATE COLUMNS!!!!!"
   ]
  },
  {
   "cell_type": "code",
   "execution_count": null,
   "metadata": {},
   "outputs": [],
   "source": [
    "# Verify Sparse Data\n",
    "sparse_weather_df.head()"
   ]
  },
  {
   "cell_type": "code",
   "execution_count": null,
   "metadata": {},
   "outputs": [],
   "source": [
    "# Verify Dense Data\n",
    "dense_weather_df.head()"
   ]
  },
  {
   "cell_type": "code",
   "execution_count": null,
   "metadata": {},
   "outputs": [],
   "source": [
    "# Merge county data on sparse and dense data\n",
    "sparse_weather_covid_county_df = sparse_weather_covid_df.merge(sparse_weather_covid_df,on=['county'])\n",
    "dense_weather_covid_county_df = dense_weather_covid_df.merge(dense_weather_covid_df,on=['county'])"
   ]
  },
  {
   "cell_type": "code",
   "execution_count": null,
   "metadata": {},
   "outputs": [],
   "source": [
    "# Drop rows with null data\n",
    "sparse = sparse_weather_covid_county_df.dropna()\n",
    "dense = dense_weather_covid_county_df.dropna()"
   ]
  },
  {
   "cell_type": "code",
   "execution_count": null,
   "metadata": {},
   "outputs": [],
   "source": [
    "# Verify Sparse Data\n",
    "sparse_weather_covid_county_df.head()"
   ]
  },
  {
   "cell_type": "code",
   "execution_count": null,
   "metadata": {},
   "outputs": [],
   "source": [
    "# Verify Dense Data\n",
    "dense_weather_covid_county_df.head()"
   ]
  },
  {
   "attachments": {},
   "cell_type": "markdown",
   "metadata": {},
   "source": [
    "# Run Models"
   ]
  },
  {
   "cell_type": "code",
   "execution_count": null,
   "metadata": {},
   "outputs": [],
   "source": [
    "# Set Feature Categories\n",
    "weather_features = ['temp_mean(C)','precip_sum(mm)','wind_max(km/h)','min_humidity(%)','max_humidity(%)','mean_humidity(%)']\n",
    "county_features = ['total_pop','pop_dens','avg_household']\n",
    "covid_features = ['new_cases','past_delta14']\n",
    "target = ['future_delta14']"
   ]
  },
  {
   "attachments": {},
   "cell_type": "markdown",
   "metadata": {},
   "source": [
    "## Sparse Data Model\n",
    "### All Features"
   ]
  },
  {
   "cell_type": "code",
   "execution_count": null,
   "metadata": {},
   "outputs": [],
   "source": [
    "# Split data into Training and Testing Sets\n",
    "\n",
    "# Use All Features\n",
    "X = sparse[weather_features + covid_features + county_features]\n",
    "y = sparse[target]\n",
    "\n",
    "X_train, X_test, y_train, y_test = train_test_split(X,y,random_state=42)\n",
    "\n",
    "# Use linear regression model\n",
    "sparse_model = LinearRegression()\n",
    "\n",
    "# Sparse 14-day new case prediction model\n",
    "sparse_model.fit(X_train,y_train)\n",
    "training_score = sparse_model.score(X_train,y_train)\n",
    "testing_score = sparse_model.score(X_test,y_test)\n",
    "\n",
    "# View performance, coefficients and y-intercept\n",
    "print(\"------- Dense 14-day New Case Prediction --------\")\n",
    "print()\n",
    "print(\"---------------- All Features -------------------\")\n",
    "print(f\"Training Score: {training_score}\")\n",
    "print(f\"Testing Score: {testing_score}\")\n",
    "print()\n",
    "print('----------------- Coefficients ------------------')\n",
    "for i in range(0,len(X.columns)):\n",
    "    print(f\"{sparse_model.feature_names_in_[i]} : {sparse_model.coef_[0][i]}\")\n",
    "print(f\"y-intercept : {sparse_model.intercept_[0]}\")\n"
   ]
  },
  {
   "attachments": {},
   "cell_type": "markdown",
   "metadata": {},
   "source": [
    "### Only Weather Features"
   ]
  },
  {
   "cell_type": "code",
   "execution_count": null,
   "metadata": {},
   "outputs": [],
   "source": [
    "# Split data into Training and Testing Sets\n",
    "\n",
    "# Use Only Weather Features\n",
    "X = sparse[weather_features]\n",
    "y = sparse[target]\n",
    "\n",
    "X_train, X_test, y_train, y_test = train_test_split(X,y,random_state=42)\n",
    "\n",
    "# Use linear regression model\n",
    "sparse_model = LinearRegression()\n",
    "\n",
    "# Sparse 14-day new case \n",
    "sparse_model.fit(X_train,y_train)\n",
    "training_score = sparse_model.score(X_train,y_train)\n",
    "testing_score = sparse_model.score(X_test,y_test)\n",
    "\n",
    "print(\"------- Sparse 14-day New Case Prediction -------\")\n",
    "print()\n",
    "print(\"-------------- Weather Features -----------------\")\n",
    "print(f\"Training Score: {training_score}\")\n",
    "print(f\"Testing Score: {testing_score}\")\n",
    "print()\n",
    "print('----------------- Coefficients ------------------')\n",
    "for i in range(0,len(X.columns)):\n",
    "    print(f\"{sparse_model.feature_names_in_[i]} : {sparse_model.coef_[0][i]}\")\n",
    "print(f\"y-intercept : {sparse_model.intercept_[0]}\")"
   ]
  },
  {
   "attachments": {},
   "cell_type": "markdown",
   "metadata": {},
   "source": [
    "### Only Covid Features"
   ]
  },
  {
   "cell_type": "code",
   "execution_count": null,
   "metadata": {},
   "outputs": [],
   "source": [
    "# Split data into Training and Testing Sets\n",
    "\n",
    "# Use Only Covid Features\n",
    "X = sparse[covid_features]\n",
    "y = sparse[target]\n",
    "\n",
    "X_train, X_test, y_train, y_test = train_test_split(X,y,random_state=42)\n",
    "\n",
    "# Use linear regression model\n",
    "sparse_model = LinearRegression()\n",
    "\n",
    "# Sparse 14-day new case prediction model\n",
    "sparse_model.fit(X_train,y_train)\n",
    "training_score = sparse_model.score(X_train,y_train)\n",
    "testing_score = sparse_model.score(X_test,y_test)\n",
    "\n",
    "print(\"------- Sparse 14-day New Case Prediction -------\")\n",
    "print()\n",
    "print(\"---------------- Covid Features -----------------\")\n",
    "print(f\"Training Score: {training_score}\")\n",
    "print(f\"Testing Score: {testing_score}\")\n",
    "print()\n",
    "print('----------------- Coefficients ------------------')\n",
    "for i in range(0,len(X.columns)):\n",
    "    print(f\"{sparse_model.feature_names_in_[i]} : {sparse_model.coef_[0][i]}\")\n",
    "print(f\"y-intercept : {sparse_model.intercept_[0]}\")"
   ]
  },
  {
   "attachments": {},
   "cell_type": "markdown",
   "metadata": {},
   "source": [
    "### Only County Features"
   ]
  },
  {
   "cell_type": "code",
   "execution_count": null,
   "metadata": {},
   "outputs": [],
   "source": [
    "# Split data into Training and Testing Sets\n",
    "\n",
    "# Use County Features\n",
    "X = sparse[county_features]\n",
    "y = sparse[target]\n",
    "\n",
    "X_train, X_test, y_train, y_test = train_test_split(X,y,random_state=42)\n",
    "\n",
    "# Use linear regression model\n",
    "sparse_model = LinearRegression()\n",
    "\n",
    "# Sparse 14-day new case prediction model\n",
    "sparse_model.fit(X_train,y_train)\n",
    "training_score = sparse_model.score(X_train,y_train)\n",
    "testing_score = sparse_model.score(X_test,y_test)\n",
    "\n",
    "print(\"------- Sparse 14-day New Case Prediction -------\")\n",
    "print()\n",
    "print(\"--------------- County Features -----------------\")\n",
    "print(f\"Training Score: {training_score}\")\n",
    "print(f\"Testing Score: {testing_score}\")\n",
    "print()\n",
    "print('----------------- Coefficients ------------------')\n",
    "for i in range(0,len(X.columns)):\n",
    "    print(f\"{sparse_model.feature_names_in_[i]} : {sparse_model.coef_[0][i]}\")\n",
    "print(f\"y-intercept : {sparse_model.intercept_[0]}\")"
   ]
  },
  {
   "attachments": {},
   "cell_type": "markdown",
   "metadata": {},
   "source": [
    "### Only County / Weather Features"
   ]
  },
  {
   "cell_type": "code",
   "execution_count": null,
   "metadata": {},
   "outputs": [],
   "source": [
    "# Split data into Training and Testing Sets\n",
    "\n",
    "# Use Only County / Weather Features\n",
    "X = sparse[weather_features + county_features]\n",
    "y = sparse[target]\n",
    "\n",
    "X_train, X_test, y_train, y_test = train_test_split(X,y,random_state=42)\n",
    "\n",
    "# Use linear regression model\n",
    "sparse_model = LinearRegression()\n",
    "\n",
    "# Sparse 14-day new case prediction model\n",
    "sparse_model.fit(X_train,y_train)\n",
    "training_score = sparse_model.score(X_train,y_train)\n",
    "testing_score = sparse_model.score(X_test,y_test)\n",
    "\n",
    "print(\"------- Sparse 14-day New Case Prediction -------\")\n",
    "print()\n",
    "print(\"---------- County / Weather Features ------------\")\n",
    "print(f\"Training Score: {training_score}\")\n",
    "print(f\"Testing Score: {testing_score}\")\n",
    "print()\n",
    "print('----------------- Coefficients ------------------')\n",
    "for i in range(0,len(X.columns)):\n",
    "    print(f\"{sparse_model.feature_names_in_[i]} : {sparse_model.coef_[0][i]}\")\n",
    "print(f\"y-intercept : {sparse_model.intercept_[0]}\")"
   ]
  },
  {
   "attachments": {},
   "cell_type": "markdown",
   "metadata": {},
   "source": [
    "### Only Covid / Weather Features"
   ]
  },
  {
   "cell_type": "code",
   "execution_count": null,
   "metadata": {},
   "outputs": [],
   "source": [
    "# Split data into Training and Testing Sets\n",
    "\n",
    "# Use Only Covid / Weather Features\n",
    "X = sparse[weather_features + covid_features]\n",
    "y = sparse[target]\n",
    "\n",
    "X_train, X_test, y_train, y_test = train_test_split(X,y,random_state=42)\n",
    "\n",
    "# Use linear regression model\n",
    "sparse_model = LinearRegression()\n",
    "\n",
    "# Sparse 14-day new case prediction model\n",
    "sparse_model.fit(X_train,y_train)\n",
    "training_score = sparse_model.score(X_train,y_train)\n",
    "testing_score = sparse_model.score(X_test,y_test)\n",
    "\n",
    "print(\"------- Sparse 14-day New Case Prediction -------\")\n",
    "print()\n",
    "print(\"---------- Covid / Weather Features -------------\")\n",
    "print(f\"Training Score: {training_score}\")\n",
    "print(f\"Testing Score: {testing_score}\")\n",
    "print()\n",
    "print('----------------- Coefficients ------------------')\n",
    "for i in range(0,len(X.columns)):\n",
    "    print(f\"{sparse_model.feature_names_in_[i]} : {sparse_model.coef_[0][i]}\")\n",
    "print(f\"y-intercept : {sparse_model.intercept_[0]}\")"
   ]
  },
  {
   "attachments": {},
   "cell_type": "markdown",
   "metadata": {},
   "source": [
    "### Only County / Covid Features"
   ]
  },
  {
   "cell_type": "code",
   "execution_count": null,
   "metadata": {},
   "outputs": [],
   "source": [
    "# Split data into Training and Testing Sets\n",
    "\n",
    "# Use Only County / Covid Features\n",
    "X = sparse[covid_features + county_features]\n",
    "y = sparse[target]\n",
    "\n",
    "X_train, X_test, y_train, y_test = train_test_split(X,y,random_state=42)\n",
    "\n",
    "# Use linear regression model\n",
    "sparse_model = LinearRegression()\n",
    "\n",
    "# Sparse 14-day new case \n",
    "sparse_model.fit(X_train,y_train)\n",
    "training_score = sparse_model.score(X_train,y_train)\n",
    "testing_score = sparse_model.score(X_test,y_test)\n",
    "\n",
    "print(\"------- Sparse 14-day New Case Prediction -------\")\n",
    "print()\n",
    "print(\"----------- County / Covid Features -------------\")\n",
    "print(f\"Training Score: {training_score}\")\n",
    "print(f\"Testing Score: {testing_score}\")\n",
    "print()\n",
    "print('----------------- Coefficients ------------------')\n",
    "for i in range(0,len(X.columns)):\n",
    "    print(f\"{sparse_model.feature_names_in_[i]} : {sparse_model.coef_[0][i]}\")\n",
    "print(f\"y-intercept : {sparse_model.intercept_[0]}\")"
   ]
  },
  {
   "attachments": {},
   "cell_type": "markdown",
   "metadata": {},
   "source": [
    "## Dense Data Model\n",
    "### All Features"
   ]
  },
  {
   "cell_type": "code",
   "execution_count": null,
   "metadata": {},
   "outputs": [],
   "source": [
    "# Split data into Training and Testing Sets\n",
    "\n",
    "# Use All features\n",
    "X = dense[weather_features + covid_features + county_features]\n",
    "y = dense[target]\n",
    "\n",
    "X_train, X_test, y_train, y_test = train_test_split(X,y,random_state=42)\n",
    "\n",
    "# Use linear regression model\n",
    "dense_model = LinearRegression()\n",
    "\n",
    "# Dense 14-day new case prediction model\n",
    "dense_model.fit(X_train,y_train)\n",
    "training_score = dense_model.score(X_train,y_train)\n",
    "testing_score = dense_model.score(X_test,y_test)\n",
    "\n",
    "# View performance, coefficients and y-intercept\n",
    "print(\"------- Dense 14-day New Case Prediction --------\")\n",
    "print(\"---------------- All Features -------------------\")\n",
    "print(f\"Training Score: {training_score}\")\n",
    "print(f\"Testing Score: {testing_score}\")\n",
    "print()\n",
    "print('----------------- Coefficients ------------------')\n",
    "for i in range(0,len(X.columns)):\n",
    "    print(f\"{dense_model.feature_names_in_[i]} : {dense_model.coef_[0][i]}\")\n",
    "print(f\"y-intercept : {dense_model.intercept_[0]}\")\n"
   ]
  },
  {
   "attachments": {},
   "cell_type": "markdown",
   "metadata": {},
   "source": [
    "### Only Weather Features"
   ]
  },
  {
   "cell_type": "code",
   "execution_count": null,
   "metadata": {},
   "outputs": [],
   "source": [
    "# Split data into Training and Testing Sets\n",
    "\n",
    "# Use Only Weather Features\n",
    "X = dense[weather_features]\n",
    "y = dense[target]\n",
    "\n",
    "X_train, X_test, y_train, y_test = train_test_split(X,y,random_state=42)\n",
    "\n",
    "# Use linear regression model\n",
    "dense_model = LinearRegression()\n",
    "\n",
    "# Dense 14-day new case prediction model\n",
    "dense_model.fit(X_train,y_train)\n",
    "training_score = dense_model.score(X_train,y_train)\n",
    "testing_score = dense_model.score(X_test,y_test)\n",
    "\n",
    "# View performance, coefficients and y-intercept\n",
    "print(\"------- Dense 14-day New Case Prediction --------\")\n",
    "print()\n",
    "print(\"-------------- Weather Features -----------------\")\n",
    "print(f\"Training Score: {training_score}\")\n",
    "print(f\"Testing Score: {testing_score}\")\n",
    "print()\n",
    "print('----------------- Coefficients ------------------')\n",
    "for i in range(0,len(X.columns)):\n",
    "    print(f\"{dense_model.feature_names_in_[i]} : {dense_model.coef_[0][i]}\")\n",
    "print(f\"y-intercept : {dense_model.intercept_[0]}\")\n"
   ]
  },
  {
   "attachments": {},
   "cell_type": "markdown",
   "metadata": {},
   "source": [
    "### Only Covid Features"
   ]
  },
  {
   "cell_type": "code",
   "execution_count": null,
   "metadata": {},
   "outputs": [],
   "source": [
    "# Split data into Training and Testing Sets\n",
    "\n",
    "# Use Only Covid Features\n",
    "X = dense[covid_features]\n",
    "y = dense[target]\n",
    "\n",
    "X_train, X_test, y_train, y_test = train_test_split(X,y,random_state=42)\n",
    "\n",
    "# Use linear regression model\n",
    "dense_model = LinearRegression()\n",
    "\n",
    "# Dense 14-day new case prediction model\n",
    "dense_model.fit(X_train,y_train)\n",
    "training_score = dense_model.score(X_train,y_train)\n",
    "testing_score = dense_model.score(X_test,y_test)\n",
    "\n",
    "# View performance, coefficients and y-intercept\n",
    "print(\"------- Dense 14-day New Case Prediction --------\")\n",
    "print()\n",
    "print(\"---------------- Covid Features -----------------\")\n",
    "print(f\"Training Score: {training_score}\")\n",
    "print(f\"Testing Score: {testing_score}\")\n",
    "print()\n",
    "print('----------------- Coefficients ------------------')\n",
    "for i in range(0,len(X.columns)):\n",
    "    print(f\"{dense_model.feature_names_in_[i]} : {dense_model.coef_[0][i]}\")\n",
    "print(f\"y-intercept : {dense_model.intercept_[0]}\")\n"
   ]
  },
  {
   "attachments": {},
   "cell_type": "markdown",
   "metadata": {},
   "source": [
    "### Only County Features"
   ]
  },
  {
   "cell_type": "code",
   "execution_count": null,
   "metadata": {},
   "outputs": [],
   "source": [
    "# Split data into Training and Testing Sets\n",
    "\n",
    "# Use Only County Features\n",
    "X = dense[county_features]\n",
    "y = dense[target]\n",
    "\n",
    "X_train, X_test, y_train, y_test = train_test_split(X,y,random_state=42)\n",
    "\n",
    "# Use linear regression model\n",
    "dense_model = LinearRegression()\n",
    "\n",
    "# Dense 14-day new case prediction model\n",
    "dense_model.fit(X_train,y_train)\n",
    "training_score = dense_model.score(X_train,y_train)\n",
    "testing_score = dense_model.score(X_test,y_test)\n",
    "\n",
    "# View performance, coefficients and y-intercept\n",
    "print(\"------- Dense 14-day New Case Prediction --------\")\n",
    "print()\n",
    "print(\"--------------- County Features -----------------\")\n",
    "print(f\"Training Score: {training_score}\")\n",
    "print(f\"Testing Score: {testing_score}\")\n",
    "print()\n",
    "print('----------------- Coefficients ------------------')\n",
    "for i in range(0,len(X.columns)):\n",
    "    print(f\"{dense_model.feature_names_in_[i]} : {dense_model.coef_[0][i]}\")\n",
    "print(f\"y-intercept : {dense_model.intercept_[0]}\")\n"
   ]
  },
  {
   "attachments": {},
   "cell_type": "markdown",
   "metadata": {},
   "source": [
    "### Only County / Weather Features"
   ]
  },
  {
   "cell_type": "code",
   "execution_count": null,
   "metadata": {},
   "outputs": [],
   "source": [
    "# Split data into Training and Testing Sets\n",
    "\n",
    "# Use Only County / Weather Features\n",
    "X = dense[weather_features + county_features]\n",
    "y = dense[target]\n",
    "\n",
    "X_train, X_test, y_train, y_test = train_test_split(X,y,random_state=42)\n",
    "\n",
    "# Use linear regression model\n",
    "dense_model = LinearRegression()\n",
    "\n",
    "# Dense 14-day new case prediction model\n",
    "dense_model.fit(X_train,y_train)\n",
    "training_score = dense_model.score(X_train,y_train)\n",
    "testing_score = dense_model.score(X_test,y_test)\n",
    "\n",
    "# View performance, coefficients and y-intercept\n",
    "print(\"------- Dense 14-day New Case Prediction --------\")\n",
    "print()\n",
    "print(\"---------- County / Weather Features ------------\")\n",
    "print(f\"Training Score: {training_score}\")\n",
    "print(f\"Testing Score: {testing_score}\")\n",
    "print()\n",
    "print('----------------- Coefficients ------------------')\n",
    "for i in range(0,len(X.columns)):\n",
    "    print(f\"{dense_model.feature_names_in_[i]} : {dense_model.coef_[0][i]}\")\n",
    "print(f\"y-intercept : {dense_model.intercept_[0]}\")\n"
   ]
  },
  {
   "attachments": {},
   "cell_type": "markdown",
   "metadata": {},
   "source": [
    "### Only Covid / Weather Features"
   ]
  },
  {
   "cell_type": "code",
   "execution_count": null,
   "metadata": {},
   "outputs": [],
   "source": [
    "# Split data into Training and Testing Sets\n",
    "\n",
    "# Use Only Covid / Weather Features\n",
    "X = dense[weather_features + covid_features]\n",
    "y = dense[target]\n",
    "\n",
    "X_train, X_test, y_train, y_test = train_test_split(X,y,random_state=42)\n",
    "\n",
    "# Use linear regression model\n",
    "dense_model = LinearRegression()\n",
    "\n",
    "# Dense 14-day new case prediction model\n",
    "dense_model.fit(X_train,y_train)\n",
    "training_score = dense_model.score(X_train,y_train)\n",
    "testing_score = dense_model.score(X_test,y_test)\n",
    "\n",
    "# View performance, coefficients and y-intercept\n",
    "print(\"------- Dense 14-day New Case Prediction --------\")\n",
    "print()\n",
    "print(\"---------- Covid / Weather Features -------------\")\n",
    "print(f\"Training Score: {training_score}\")\n",
    "print(f\"Testing Score: {testing_score}\")\n",
    "print()\n",
    "print('----------------- Coefficients ------------------')\n",
    "for i in range(0,len(X.columns)):\n",
    "    print(f\"{dense_model.feature_names_in_[i]} : {dense_model.coef_[0][i]}\")\n",
    "print(f\"y-intercept : {dense_model.intercept_[0]}\")\n"
   ]
  },
  {
   "attachments": {},
   "cell_type": "markdown",
   "metadata": {},
   "source": [
    "### Only County / Covid Features"
   ]
  },
  {
   "cell_type": "code",
   "execution_count": null,
   "metadata": {},
   "outputs": [],
   "source": [
    "# Split data into Training and Testing Sets\n",
    "\n",
    "# Use Only County / Covid Features\n",
    "X = dense[covid_features + county_features]\n",
    "y = dense[target]\n",
    "\n",
    "X_train, X_test, y_train, y_test = train_test_split(X,y,random_state=42)\n",
    "\n",
    "# Use linear regression model\n",
    "dense_model = LinearRegression()\n",
    "\n",
    "# Dense 14-day new case prediction model\n",
    "dense_model.fit(X_train,y_train)\n",
    "training_score = dense_model.score(X_train,y_train)\n",
    "testing_score = dense_model.score(X_test,y_test)\n",
    "\n",
    "# View performance, coefficients and y-intercept\n",
    "print(\"------- Dense 14-day New Case Prediction --------\")\n",
    "print()\n",
    "print(\"----------- County / Covid Features -------------\")\n",
    "print(f\"Training Score: {training_score}\")\n",
    "print(f\"Testing Score: {testing_score}\")\n",
    "print()\n",
    "print('----------------- Coefficients ------------------')\n",
    "for i in range(0,len(X.columns)):\n",
    "    print(f\"{dense_model.feature_names_in_[i]} : {dense_model.coef_[0][i]}\")\n",
    "print(f\"y-intercept : {dense_model.intercept_[0]}\")\n"
   ]
  }
 ],
 "metadata": {
  "kernelspec": {
   "display_name": "tf",
   "language": "python",
   "name": "python3"
  },
  "language_info": {
   "codemirror_mode": {
    "name": "ipython",
    "version": 3
   },
   "file_extension": ".py",
   "mimetype": "text/x-python",
   "name": "python",
   "nbconvert_exporter": "python",
   "pygments_lexer": "ipython3",
   "version": "3.10.9"
  },
  "orig_nbformat": 4
 },
 "nbformat": 4,
 "nbformat_minor": 2
}
