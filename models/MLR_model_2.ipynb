{
 "cells": [
  {
   "cell_type": "code",
   "execution_count": 1,
   "metadata": {},
   "outputs": [],
   "source": [
    "import pandas as pd\n",
    "import numpy as np\n",
    "from sklearn.linear_model import LinearRegression\n",
    "from sklearn.model_selection import train_test_split\n",
    "from sqlalchemy import create_engine\n",
    "from config import DB_NAME, DB_URL, DB_PORT, DB_NAME, USERNAME, PASSWORD"
   ]
  },
  {
   "attachments": {},
   "cell_type": "markdown",
   "metadata": {},
   "source": [
    "# Import Data"
   ]
  },
  {
   "cell_type": "code",
   "execution_count": null,
   "metadata": {},
   "outputs": [],
   "source": [
    "#####################################################################\n",
    "### !!! This csv import to be replaced by import from DB instance !!!\n",
    "### !!! For model design only !!!\n",
    "#####################################################################\n",
    "\n",
    "# Read CSV data and verify\n",
    "sparse_covid_df = pd.read_csv('../data/covid/sparse_county_covid.csv',index_col=0)\n",
    "dense_covid_df = pd.read_csv('../data/covid/dense_county_covid.csv',index_col=0)\n",
    "weather_df = pd.read_csv('../data/weather/county_weather.csv',index_col=0)"
   ]
  },
  {
   "attachments": {},
   "cell_type": "markdown",
   "metadata": {},
   "source": [
    "# Transform Data"
   ]
  },
  {
   "cell_type": "code",
   "execution_count": null,
   "metadata": {},
   "outputs": [],
   "source": [
    "# Add population density and total population values\n",
    "density = {\n",
    "    'baltimore': 6866,\n",
    "    'essex': 6168,\n",
    "    'cook': 5301,\n",
    "    'union': 5150,\n",
    "    'norfolk': 5026,\n",
    "    'nassau': 4954,\n",
    "    'harrisonburg':4765,\n",
    "    'fairfax':2454,\n",
    "    'camden':2289,\n",
    "    'harris':2700,\n",
    "    'franklin':2186,\n",
    "    'marion':2466,\n",
    "    'dekalb':2482,\n",
    "    'duval':1305,\n",
    "    'wake':1377,\n",
    "    'bexar':1620\n",
    "}\n",
    "\n",
    "population = {\n",
    "    'baltimore': 621342,\n",
    "    'essex': 755618,\n",
    "    'cook': 5231351,\n",
    "    'union': 543976,\n",
    "    'norfolk': 245782,\n",
    "    'nassau': 74629,\n",
    "    'harrisonburg':50981,\n",
    "    'fairfax':1118602,\n",
    "    'camden':513539,\n",
    "    'harris':4253700,\n",
    "    'franklin':1195537,\n",
    "    'marion':918977,\n",
    "    'dekalb':707089,\n",
    "    'duval':879602,\n",
    "    'wake':952151,\n",
    "    'bexar':1785704\n",
    "}\n"
   ]
  },
  {
   "cell_type": "code",
   "execution_count": null,
   "metadata": {},
   "outputs": [],
   "source": [
    "# Add pop_density and population columns to covid data\n",
    "sparse_covid_df['population'] = pd.Series(dtype=int)\n",
    "sparse_covid_df['pop_density'] = pd.Series(dtype=int)\n",
    "\n",
    "dense_covid_df['population'] = pd.Series(dtype=int)\n",
    "dense_covid_df['pop_density'] = pd.Series(dtype=int)\n",
    "\n",
    "# Set population and density columns for sparse counties\n",
    "for i in range(len(sparse_covid_df.index)):\n",
    "    county = sparse_covid_df.iloc[i,1]\n",
    "\n",
    "    sparse_covid_df.iloc[i,7] = population[county]\n",
    "    sparse_covid_df.iloc[i,8] = density[county]\n",
    "\n",
    "# Set population and density columns for dense counties\n",
    "for i in range(len(dense_covid_df.index)):\n",
    "    county = dense_covid_df.iloc[i,1]\n",
    "\n",
    "    dense_covid_df.iloc[i,7] = population[county]\n",
    "    dense_covid_df.iloc[i,8] = density[county]"
   ]
  },
  {
   "cell_type": "code",
   "execution_count": null,
   "metadata": {},
   "outputs": [],
   "source": [
    "# Add past_delta14 columns to sparse and dense counties\n",
    "sparse_covid_df['past_delta14'] = pd.Series(dtype=int)\n",
    "dense_covid_df['past_delta14'] = pd.Series(dtype=int)\n",
    "\n",
    "# Sparse county past_delta_14\n",
    "for i in range(14,len(sparse_covid_df.index)):\n",
    "\n",
    "    # Set past_delta_14\n",
    "    past_cases = sparse_covid_df.iloc[i-14,3]\n",
    "    present_cases = sparse_covid_df.iloc[i,3]\n",
    "    delta14 = present_cases - past_cases\n",
    "\n",
    "    sparse_covid_df.iloc[i,9] = delta14\n",
    "\n",
    "# Dense county past delta14\n",
    "for i in range(14,len(dense_covid_df.index)):\n",
    "\n",
    "    # Set past_delta_14\n",
    "    past_cases = dense_covid_df.iloc[i-14,3]\n",
    "    present_cases = dense_covid_df.iloc[i,3]\n",
    "    delta14 = present_cases - past_cases\n",
    "\n",
    "    dense_covid_df.iloc[i,9] = delta14"
   ]
  },
  {
   "cell_type": "code",
   "execution_count": null,
   "metadata": {},
   "outputs": [],
   "source": [
    "# Sort weather data according to the sparse or dense county sets\n",
    "sparse_counties = sparse_covid_df['county'].unique()\n",
    "dense_counties = dense_covid_df['county'].unique()\n",
    "\n",
    "# Sort weather for each set\n",
    "sparse_weather_df = weather_df[weather_df['county'].isin(sparse_counties)]\n",
    "dense_weather_df = weather_df[weather_df['county'].isin(dense_counties)]"
   ]
  },
  {
   "cell_type": "code",
   "execution_count": null,
   "metadata": {},
   "outputs": [],
   "source": [
    "# Merge weather data on sparse and dense covid data\n",
    "sparse_weather_covid_df = sparse_covid_df.merge(sparse_weather_df,on=['date','county'])\n",
    "dense_weather_covid_df = dense_covid_df.merge(dense_weather_df,on=['date','county'])"
   ]
  },
  {
   "cell_type": "code",
   "execution_count": null,
   "metadata": {},
   "outputs": [],
   "source": [
    "# Verify Sparse Data\n",
    "sparse_weather_covid_df.head()"
   ]
  },
  {
   "cell_type": "code",
   "execution_count": null,
   "metadata": {},
   "outputs": [],
   "source": [
    "# Verify Dense Data\n",
    "dense_weather_covid_df.head()"
   ]
  },
  {
   "attachments": {},
   "cell_type": "markdown",
   "metadata": {},
   "source": [
    "# Run Models"
   ]
  },
  {
   "cell_type": "code",
   "execution_count": null,
   "metadata": {},
   "outputs": [],
   "source": [
    "# Set Feature categories\n",
    "weather_features = ['temp_mean(C)','precip_sum(mm)','wind_max(km/h)','min_humidity(%)','max_humidity(%)','mean_humidity(%)']\n",
    "county_features = ['population','pop_density']\n",
    "covid_features = ['new_cases','past_delta14']\n",
    "target = ['future_delta14']"
   ]
  },
  {
   "attachments": {},
   "cell_type": "markdown",
   "metadata": {},
   "source": [
    "## Sparse Data Model\n",
    "### All Features"
   ]
  },
  {
   "cell_type": "code",
   "execution_count": null,
   "metadata": {},
   "outputs": [],
   "source": [
    "# Split data into Training and Testing Sets\n",
    "# Drop rows with null data\n",
    "sparse = sparse_weather_covid_df.dropna()\n",
    "\n",
    "# Use All Features\n",
    "X = sparse[weather_features + covid_features + county_features]\n",
    "y = sparse[target]\n",
    "\n",
    "X_train, X_test, y_train, y_test = train_test_split(X,y,random_state=42)\n",
    "\n",
    "# Use linear regression model\n",
    "sparse_model = LinearRegression()\n",
    "\n",
    "# Sparse 14-day new case prediction model\n",
    "sparse_model.fit(X_train,y_train)\n",
    "training_score = sparse_model.score(X_train,y_train)\n",
    "testing_score = sparse_model.score(X_test,y_test)\n",
    "\n",
    "# View performance, coefficients and y-intercept\n",
    "print(\"------- Dense 14-day New Case Prediction --------\")\n",
    "print()\n",
    "print(\"---------------- All Features -------------------\")\n",
    "print(f\"Training Score: {training_score}\")\n",
    "print(f\"Testing Score: {testing_score}\")\n",
    "print()\n",
    "print('----------------- Coefficients ------------------')\n",
    "for i in range(0,len(X.columns)):\n",
    "    print(f\"{sparse_model.feature_names_in_[i]} : {sparse_model.coef_[0][i]}\")\n",
    "print(f\"y-intercept : {sparse_model.intercept_[0]}\")\n"
   ]
  },
  {
   "attachments": {},
   "cell_type": "markdown",
   "metadata": {},
   "source": [
    "### Only Weather Features"
   ]
  },
  {
   "cell_type": "code",
   "execution_count": null,
   "metadata": {},
   "outputs": [],
   "source": [
    "# Split data into Training and Testing Sets\n",
    "# Drop rows with null data\n",
    "sparse = sparse_weather_covid_df.dropna()\n",
    "\n",
    "# Use Only Weather Features\n",
    "X = sparse[weather_features]\n",
    "y = sparse[target]\n",
    "\n",
    "X_train, X_test, y_train, y_test = train_test_split(X,y,random_state=42)\n",
    "\n",
    "# Use linear regression model\n",
    "sparse_model = LinearRegression()\n",
    "\n",
    "# Sparse 14-day new case \n",
    "sparse_model.fit(X_train,y_train)\n",
    "training_score = sparse_model.score(X_train,y_train)\n",
    "testing_score = sparse_model.score(X_test,y_test)\n",
    "\n",
    "print(\"------- Sparse 14-day New Case Prediction -------\")\n",
    "print()\n",
    "print(\"-------------- Weather Features -----------------\")\n",
    "print(f\"Training Score: {training_score}\")\n",
    "print(f\"Testing Score: {testing_score}\")\n",
    "print()\n",
    "print('----------------- Coefficients ------------------')\n",
    "for i in range(0,len(X.columns)):\n",
    "    print(f\"{sparse_model.feature_names_in_[i]} : {sparse_model.coef_[0][i]}\")\n",
    "print(f\"y-intercept : {sparse_model.intercept_[0]}\")"
   ]
  },
  {
   "attachments": {},
   "cell_type": "markdown",
   "metadata": {},
   "source": [
    "### Only Covid Features"
   ]
  },
  {
   "cell_type": "code",
   "execution_count": null,
   "metadata": {},
   "outputs": [],
   "source": [
    "# Split data into Training and Testing Sets\n",
    "# Drop rows with null data\n",
    "sparse = sparse_weather_covid_df.dropna()\n",
    "\n",
    "# Use Only Covid Features\n",
    "X = sparse[covid_features]\n",
    "y = sparse[target]\n",
    "\n",
    "X_train, X_test, y_train, y_test = train_test_split(X,y,random_state=42)\n",
    "\n",
    "# Use linear regression model\n",
    "sparse_model = LinearRegression()\n",
    "\n",
    "# Sparse 14-day new case prediction model\n",
    "sparse_model.fit(X_train,y_train)\n",
    "training_score = sparse_model.score(X_train,y_train)\n",
    "testing_score = sparse_model.score(X_test,y_test)\n",
    "\n",
    "print(\"------- Sparse 14-day New Case Prediction -------\")\n",
    "print()\n",
    "print(\"---------------- Covid Features -----------------\")\n",
    "print(f\"Training Score: {training_score}\")\n",
    "print(f\"Testing Score: {testing_score}\")\n",
    "print()\n",
    "print('----------------- Coefficients ------------------')\n",
    "for i in range(0,len(X.columns)):\n",
    "    print(f\"{sparse_model.feature_names_in_[i]} : {sparse_model.coef_[0][i]}\")\n",
    "print(f\"y-intercept : {sparse_model.intercept_[0]}\")"
   ]
  },
  {
   "attachments": {},
   "cell_type": "markdown",
   "metadata": {},
   "source": [
    "### Only County Features"
   ]
  },
  {
   "cell_type": "code",
   "execution_count": null,
   "metadata": {},
   "outputs": [],
   "source": [
    "# Split data into Training and Testing Sets\n",
    "# Drop rows with null data\n",
    "sparse = sparse_weather_covid_df.dropna()\n",
    "\n",
    "# Use County Features\n",
    "X = sparse[county_features]\n",
    "y = sparse[target]\n",
    "\n",
    "X_train, X_test, y_train, y_test = train_test_split(X,y,random_state=42)\n",
    "\n",
    "# Use linear regression model\n",
    "sparse_model = LinearRegression()\n",
    "\n",
    "# Sparse 14-day new case prediction model\n",
    "sparse_model.fit(X_train,y_train)\n",
    "training_score = sparse_model.score(X_train,y_train)\n",
    "testing_score = sparse_model.score(X_test,y_test)\n",
    "\n",
    "print(\"------- Sparse 14-day New Case Prediction -------\")\n",
    "print()\n",
    "print(\"--------------- County Features -----------------\")\n",
    "print(f\"Training Score: {training_score}\")\n",
    "print(f\"Testing Score: {testing_score}\")\n",
    "print()\n",
    "print('----------------- Coefficients ------------------')\n",
    "for i in range(0,len(X.columns)):\n",
    "    print(f\"{sparse_model.feature_names_in_[i]} : {sparse_model.coef_[0][i]}\")\n",
    "print(f\"y-intercept : {sparse_model.intercept_[0]}\")"
   ]
  },
  {
   "attachments": {},
   "cell_type": "markdown",
   "metadata": {},
   "source": [
    "### Only County / Weather Features"
   ]
  },
  {
   "cell_type": "code",
   "execution_count": null,
   "metadata": {},
   "outputs": [],
   "source": [
    "# Split data into Training and Testing Sets\n",
    "# Drop rows with null data\n",
    "sparse = sparse_weather_covid_df.dropna()\n",
    "\n",
    "# Use Only County / Weather Features\n",
    "X = sparse[weather_features + county_features]\n",
    "y = sparse[target]\n",
    "\n",
    "X_train, X_test, y_train, y_test = train_test_split(X,y,random_state=42)\n",
    "\n",
    "# Use linear regression model\n",
    "sparse_model = LinearRegression()\n",
    "\n",
    "# Sparse 14-day new case prediction model\n",
    "sparse_model.fit(X_train,y_train)\n",
    "training_score = sparse_model.score(X_train,y_train)\n",
    "testing_score = sparse_model.score(X_test,y_test)\n",
    "\n",
    "print(\"------- Sparse 14-day New Case Prediction -------\")\n",
    "print()\n",
    "print(\"---------- County / Weather Features ------------\")\n",
    "print(f\"Training Score: {training_score}\")\n",
    "print(f\"Testing Score: {testing_score}\")\n",
    "print()\n",
    "print('----------------- Coefficients ------------------')\n",
    "for i in range(0,len(X.columns)):\n",
    "    print(f\"{sparse_model.feature_names_in_[i]} : {sparse_model.coef_[0][i]}\")\n",
    "print(f\"y-intercept : {sparse_model.intercept_[0]}\")"
   ]
  },
  {
   "attachments": {},
   "cell_type": "markdown",
   "metadata": {},
   "source": [
    "### Only Covid / Weather Features"
   ]
  },
  {
   "cell_type": "code",
   "execution_count": null,
   "metadata": {},
   "outputs": [],
   "source": [
    "# Split data into Training and Testing Sets\n",
    "# Drop rows with null data\n",
    "sparse = sparse_weather_covid_df.dropna()\n",
    "\n",
    "# Use Only Covid / Weather Features\n",
    "X = sparse[weather_features + covid_features]\n",
    "y = sparse[target]\n",
    "\n",
    "X_train, X_test, y_train, y_test = train_test_split(X,y,random_state=42)\n",
    "\n",
    "# Use linear regression model\n",
    "sparse_model = LinearRegression()\n",
    "\n",
    "# Sparse 14-day new case prediction model\n",
    "sparse_model.fit(X_train,y_train)\n",
    "training_score = sparse_model.score(X_train,y_train)\n",
    "testing_score = sparse_model.score(X_test,y_test)\n",
    "\n",
    "print(\"------- Sparse 14-day New Case Prediction -------\")\n",
    "print()\n",
    "print(\"---------- Covid / Weather Features -------------\")\n",
    "print(f\"Training Score: {training_score}\")\n",
    "print(f\"Testing Score: {testing_score}\")\n",
    "print()\n",
    "print('----------------- Coefficients ------------------')\n",
    "for i in range(0,len(X.columns)):\n",
    "    print(f\"{sparse_model.feature_names_in_[i]} : {sparse_model.coef_[0][i]}\")\n",
    "print(f\"y-intercept : {sparse_model.intercept_[0]}\")"
   ]
  },
  {
   "attachments": {},
   "cell_type": "markdown",
   "metadata": {},
   "source": [
    "### Only County / Covid Features"
   ]
  },
  {
   "cell_type": "code",
   "execution_count": null,
   "metadata": {},
   "outputs": [],
   "source": [
    "# Split data into Training and Testing Sets\n",
    "# Drop rows with null data\n",
    "sparse = sparse_weather_covid_df.dropna()\n",
    "\n",
    "# Use Only County / Covid Features\n",
    "X = sparse[covid_features + county_features]\n",
    "y = sparse[target]\n",
    "\n",
    "X_train, X_test, y_train, y_test = train_test_split(X,y,random_state=42)\n",
    "\n",
    "# Use linear regression model\n",
    "sparse_model = LinearRegression()\n",
    "\n",
    "# Sparse 14-day new case \n",
    "sparse_model.fit(X_train,y_train)\n",
    "training_score = sparse_model.score(X_train,y_train)\n",
    "testing_score = sparse_model.score(X_test,y_test)\n",
    "\n",
    "print(\"------- Sparse 14-day New Case Prediction -------\")\n",
    "print()\n",
    "print(\"----------- County / Covid Features -------------\")\n",
    "print(f\"Training Score: {training_score}\")\n",
    "print(f\"Testing Score: {testing_score}\")\n",
    "print()\n",
    "print('----------------- Coefficients ------------------')\n",
    "for i in range(0,len(X.columns)):\n",
    "    print(f\"{sparse_model.feature_names_in_[i]} : {sparse_model.coef_[0][i]}\")\n",
    "print(f\"y-intercept : {sparse_model.intercept_[0]}\")"
   ]
  },
  {
   "attachments": {},
   "cell_type": "markdown",
   "metadata": {},
   "source": [
    "## Dense Data Model\n",
    "### All Features"
   ]
  },
  {
   "cell_type": "code",
   "execution_count": null,
   "metadata": {},
   "outputs": [],
   "source": [
    "# Split data into Training and Testing Sets\n",
    "# Drop rows with null data\n",
    "dense = dense_weather_covid_df.dropna()\n",
    "\n",
    "# Use All features\n",
    "X = dense[weather_features + covid_features + county_features]\n",
    "y = dense[target]\n",
    "\n",
    "X_train, X_test, y_train, y_test = train_test_split(X,y,random_state=42)\n",
    "\n",
    "# Use linear regression model\n",
    "dense_model = LinearRegression()\n",
    "\n",
    "# Dense 14-day new case prediction model\n",
    "dense_model.fit(X_train,y_train)\n",
    "training_score = dense_model.score(X_train,y_train)\n",
    "testing_score = dense_model.score(X_test,y_test)\n",
    "\n",
    "# View performance, coefficients and y-intercept\n",
    "print(\"------- Dense 14-day New Case Prediction --------\")\n",
    "print(\"---------------- All Features -------------------\")\n",
    "print(f\"Training Score: {training_score}\")\n",
    "print(f\"Testing Score: {testing_score}\")\n",
    "print()\n",
    "print('----------------- Coefficients ------------------')\n",
    "for i in range(0,len(X.columns)):\n",
    "    print(f\"{dense_model.feature_names_in_[i]} : {dense_model.coef_[0][i]}\")\n",
    "print(f\"y-intercept : {dense_model.intercept_[0]}\")\n"
   ]
  },
  {
   "attachments": {},
   "cell_type": "markdown",
   "metadata": {},
   "source": [
    "### Only Weather Features"
   ]
  },
  {
   "cell_type": "code",
   "execution_count": null,
   "metadata": {},
   "outputs": [],
   "source": [
    "# Split data into Training and Testing Sets\n",
    "# Drop rows with null data\n",
    "dense = dense_weather_covid_df.dropna()\n",
    "\n",
    "# Use Only Weather Features\n",
    "X = dense[weather_features]\n",
    "y = dense[target]\n",
    "\n",
    "X_train, X_test, y_train, y_test = train_test_split(X,y,random_state=42)\n",
    "\n",
    "# Use linear regression model\n",
    "dense_model = LinearRegression()\n",
    "\n",
    "# Dense 14-day new case prediction model\n",
    "dense_model.fit(X_train,y_train)\n",
    "training_score = dense_model.score(X_train,y_train)\n",
    "testing_score = dense_model.score(X_test,y_test)\n",
    "\n",
    "# View performance, coefficients and y-intercept\n",
    "print(\"------- Dense 14-day New Case Prediction --------\")\n",
    "print()\n",
    "print(\"-------------- Weather Features -----------------\")\n",
    "print(f\"Training Score: {training_score}\")\n",
    "print(f\"Testing Score: {testing_score}\")\n",
    "print()\n",
    "print('----------------- Coefficients ------------------')\n",
    "for i in range(0,len(X.columns)):\n",
    "    print(f\"{dense_model.feature_names_in_[i]} : {dense_model.coef_[0][i]}\")\n",
    "print(f\"y-intercept : {dense_model.intercept_[0]}\")\n"
   ]
  },
  {
   "attachments": {},
   "cell_type": "markdown",
   "metadata": {},
   "source": [
    "### Only Covid Features"
   ]
  },
  {
   "cell_type": "code",
   "execution_count": null,
   "metadata": {},
   "outputs": [],
   "source": [
    "# Split data into Training and Testing Sets\n",
    "# Drop rows with null data\n",
    "dense = dense_weather_covid_df.dropna()\n",
    "\n",
    "# Use Only Covid Features\n",
    "X = dense[covid_features]\n",
    "y = dense[target]\n",
    "\n",
    "X_train, X_test, y_train, y_test = train_test_split(X,y,random_state=42)\n",
    "\n",
    "# Use linear regression model\n",
    "dense_model = LinearRegression()\n",
    "\n",
    "# Dense 14-day new case prediction model\n",
    "dense_model.fit(X_train,y_train)\n",
    "training_score = dense_model.score(X_train,y_train)\n",
    "testing_score = dense_model.score(X_test,y_test)\n",
    "\n",
    "# View performance, coefficients and y-intercept\n",
    "print(\"------- Dense 14-day New Case Prediction --------\")\n",
    "print()\n",
    "print(\"---------------- Covid Features -----------------\")\n",
    "print(f\"Training Score: {training_score}\")\n",
    "print(f\"Testing Score: {testing_score}\")\n",
    "print()\n",
    "print('----------------- Coefficients ------------------')\n",
    "for i in range(0,len(X.columns)):\n",
    "    print(f\"{dense_model.feature_names_in_[i]} : {dense_model.coef_[0][i]}\")\n",
    "print(f\"y-intercept : {dense_model.intercept_[0]}\")\n"
   ]
  },
  {
   "attachments": {},
   "cell_type": "markdown",
   "metadata": {},
   "source": [
    "### Only County Features"
   ]
  },
  {
   "cell_type": "code",
   "execution_count": null,
   "metadata": {},
   "outputs": [],
   "source": [
    "# Split data into Training and Testing Sets\n",
    "# Drop rows with null data\n",
    "dense = dense_weather_covid_df.dropna()\n",
    "\n",
    "# Use Only County Features\n",
    "X = dense[county_features]\n",
    "y = dense[target]\n",
    "\n",
    "X_train, X_test, y_train, y_test = train_test_split(X,y,random_state=42)\n",
    "\n",
    "# Use linear regression model\n",
    "dense_model = LinearRegression()\n",
    "\n",
    "# Dense 14-day new case prediction model\n",
    "dense_model.fit(X_train,y_train)\n",
    "training_score = dense_model.score(X_train,y_train)\n",
    "testing_score = dense_model.score(X_test,y_test)\n",
    "\n",
    "# View performance, coefficients and y-intercept\n",
    "print(\"------- Dense 14-day New Case Prediction --------\")\n",
    "print()\n",
    "print(\"--------------- County Features -----------------\")\n",
    "print(f\"Training Score: {training_score}\")\n",
    "print(f\"Testing Score: {testing_score}\")\n",
    "print()\n",
    "print('----------------- Coefficients ------------------')\n",
    "for i in range(0,len(X.columns)):\n",
    "    print(f\"{dense_model.feature_names_in_[i]} : {dense_model.coef_[0][i]}\")\n",
    "print(f\"y-intercept : {dense_model.intercept_[0]}\")\n"
   ]
  },
  {
   "attachments": {},
   "cell_type": "markdown",
   "metadata": {},
   "source": [
    "### Only County / Weather Features"
   ]
  },
  {
   "cell_type": "code",
   "execution_count": null,
   "metadata": {},
   "outputs": [],
   "source": [
    "# Split data into Training and Testing Sets\n",
    "# Drop rows with null data\n",
    "dense = dense_weather_covid_df.dropna()\n",
    "\n",
    "# Use Only County / Weather Features\n",
    "X = dense[weather_features + county_features]\n",
    "y = dense[target]\n",
    "\n",
    "X_train, X_test, y_train, y_test = train_test_split(X,y,random_state=42)\n",
    "\n",
    "# Use linear regression model\n",
    "dense_model = LinearRegression()\n",
    "\n",
    "# Dense 14-day new case prediction model\n",
    "dense_model.fit(X_train,y_train)\n",
    "training_score = dense_model.score(X_train,y_train)\n",
    "testing_score = dense_model.score(X_test,y_test)\n",
    "\n",
    "# View performance, coefficients and y-intercept\n",
    "print(\"------- Dense 14-day New Case Prediction --------\")\n",
    "print()\n",
    "print(\"---------- County / Weather Features ------------\")\n",
    "print(f\"Training Score: {training_score}\")\n",
    "print(f\"Testing Score: {testing_score}\")\n",
    "print()\n",
    "print('----------------- Coefficients ------------------')\n",
    "for i in range(0,len(X.columns)):\n",
    "    print(f\"{dense_model.feature_names_in_[i]} : {dense_model.coef_[0][i]}\")\n",
    "print(f\"y-intercept : {dense_model.intercept_[0]}\")\n"
   ]
  },
  {
   "attachments": {},
   "cell_type": "markdown",
   "metadata": {},
   "source": [
    "### Only Covid / Weather Features"
   ]
  },
  {
   "cell_type": "code",
   "execution_count": null,
   "metadata": {},
   "outputs": [],
   "source": [
    "# Split data into Training and Testing Sets\n",
    "# Drop rows with null data\n",
    "dense = dense_weather_covid_df.dropna()\n",
    "\n",
    "# Use Only Covid / Weather Features\n",
    "X = dense[weather_features + covid_features]\n",
    "y = dense[target]\n",
    "\n",
    "X_train, X_test, y_train, y_test = train_test_split(X,y,random_state=42)\n",
    "\n",
    "# Use linear regression model\n",
    "dense_model = LinearRegression()\n",
    "\n",
    "# Dense 14-day new case prediction model\n",
    "dense_model.fit(X_train,y_train)\n",
    "training_score = dense_model.score(X_train,y_train)\n",
    "testing_score = dense_model.score(X_test,y_test)\n",
    "\n",
    "# View performance, coefficients and y-intercept\n",
    "print(\"------- Dense 14-day New Case Prediction --------\")\n",
    "print()\n",
    "print(\"---------- Covid / Weather Features -------------\")\n",
    "print(f\"Training Score: {training_score}\")\n",
    "print(f\"Testing Score: {testing_score}\")\n",
    "print()\n",
    "print('----------------- Coefficients ------------------')\n",
    "for i in range(0,len(X.columns)):\n",
    "    print(f\"{dense_model.feature_names_in_[i]} : {dense_model.coef_[0][i]}\")\n",
    "print(f\"y-intercept : {dense_model.intercept_[0]}\")\n"
   ]
  },
  {
   "attachments": {},
   "cell_type": "markdown",
   "metadata": {},
   "source": [
    "### Only County / Covid Features"
   ]
  },
  {
   "cell_type": "code",
   "execution_count": null,
   "metadata": {},
   "outputs": [],
   "source": [
    "# Split data into Training and Testing Sets\n",
    "# Drop rows with null data\n",
    "dense = dense_weather_covid_df.dropna()\n",
    "\n",
    "# Use Only County / Covid Features\n",
    "X = dense[covid_features + county_features]\n",
    "y = dense[target]\n",
    "\n",
    "X_train, X_test, y_train, y_test = train_test_split(X,y,random_state=42)\n",
    "\n",
    "# Use linear regression model\n",
    "dense_model = LinearRegression()\n",
    "\n",
    "# Dense 14-day new case prediction model\n",
    "dense_model.fit(X_train,y_train)\n",
    "training_score = dense_model.score(X_train,y_train)\n",
    "testing_score = dense_model.score(X_test,y_test)\n",
    "\n",
    "# View performance, coefficients and y-intercept\n",
    "print(\"------- Dense 14-day New Case Prediction --------\")\n",
    "print()\n",
    "print(\"----------- County / Covid Features -------------\")\n",
    "print(f\"Training Score: {training_score}\")\n",
    "print(f\"Testing Score: {testing_score}\")\n",
    "print()\n",
    "print('----------------- Coefficients ------------------')\n",
    "for i in range(0,len(X.columns)):\n",
    "    print(f\"{dense_model.feature_names_in_[i]} : {dense_model.coef_[0][i]}\")\n",
    "print(f\"y-intercept : {dense_model.intercept_[0]}\")\n"
   ]
  }
 ],
 "metadata": {
  "kernelspec": {
   "display_name": "tf",
   "language": "python",
   "name": "python3"
  },
  "language_info": {
   "codemirror_mode": {
    "name": "ipython",
    "version": 3
   },
   "file_extension": ".py",
   "mimetype": "text/x-python",
   "name": "python",
   "nbconvert_exporter": "python",
   "pygments_lexer": "ipython3",
   "version": "3.10.9"
  },
  "orig_nbformat": 4
 },
 "nbformat": 4,
 "nbformat_minor": 2
}
